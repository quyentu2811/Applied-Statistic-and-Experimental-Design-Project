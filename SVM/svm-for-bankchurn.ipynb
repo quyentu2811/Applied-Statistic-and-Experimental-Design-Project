{
 "cells": [
  {
   "cell_type": "code",
   "execution_count": 1,
   "id": "da14ce63",
   "metadata": {
    "_cell_guid": "b1076dfc-b9ad-4769-8c92-a6c4dae69d19",
    "_uuid": "8f2839f25d086af736a60e9eeb907d3b93b6e0e5",
    "execution": {
     "iopub.execute_input": "2023-07-11T03:46:48.316119Z",
     "iopub.status.busy": "2023-07-11T03:46:48.315550Z",
     "iopub.status.idle": "2023-07-11T03:46:48.338122Z",
     "shell.execute_reply": "2023-07-11T03:46:48.336770Z"
    },
    "papermill": {
     "duration": 0.036761,
     "end_time": "2023-07-11T03:46:48.341287",
     "exception": false,
     "start_time": "2023-07-11T03:46:48.304526",
     "status": "completed"
    },
    "tags": []
   },
   "outputs": [
    {
     "name": "stdout",
     "output_type": "stream",
     "text": [
      "/kaggle/input/bank-customer-churn-prediction/Churn_Modelling.csv\n"
     ]
    }
   ],
   "source": [
    "# This Python 3 environment comes with many helpful analytics libraries installed\n",
    "# It is defined by the kaggle/python Docker image: https://github.com/kaggle/docker-python\n",
    "# For example, here's several helpful packages to load\n",
    "\n",
    "import numpy as np # linear algebra\n",
    "import pandas as pd # data processing, CSV file I/O (e.g. pd.read_csv)\n",
    "\n",
    "# Input data files are available in the read-only \"../input/\" directory\n",
    "# For example, running this (by clicking run or pressing Shift+Enter) will list all files under the input directory\n",
    "\n",
    "import os\n",
    "for dirname, _, filenames in os.walk('/kaggle/input'):\n",
    "    for filename in filenames:\n",
    "        print(os.path.join(dirname, filename))\n",
    "\n",
    "# You can write up to 20GB to the current directory (/kaggle/working/) that gets preserved as output when you create a version using \"Save & Run All\" \n",
    "# You can also write temporary files to /kaggle/temp/, but they won't be saved outside of the current session"
   ]
  },
  {
   "cell_type": "code",
   "execution_count": 2,
   "id": "1c04a9f4",
   "metadata": {
    "execution": {
     "iopub.execute_input": "2023-07-11T03:46:48.361040Z",
     "iopub.status.busy": "2023-07-11T03:46:48.360515Z",
     "iopub.status.idle": "2023-07-11T03:46:59.507115Z",
     "shell.execute_reply": "2023-07-11T03:46:59.505711Z"
    },
    "papermill": {
     "duration": 11.160125,
     "end_time": "2023-07-11T03:46:59.510417",
     "exception": false,
     "start_time": "2023-07-11T03:46:48.350292",
     "status": "completed"
    },
    "tags": []
   },
   "outputs": [
    {
     "name": "stderr",
     "output_type": "stream",
     "text": [
      "/opt/conda/lib/python3.10/site-packages/scipy/__init__.py:146: UserWarning: A NumPy version >=1.16.5 and <1.23.0 is required for this version of SciPy (detected version 1.23.5\n",
      "  warnings.warn(f\"A NumPy version >={np_minversion} and <{np_maxversion}\"\n",
      "/opt/conda/lib/python3.10/site-packages/tensorflow_io/python/ops/__init__.py:98: UserWarning: unable to load libtensorflow_io_plugins.so: unable to open file: libtensorflow_io_plugins.so, from paths: ['/opt/conda/lib/python3.10/site-packages/tensorflow_io/python/ops/libtensorflow_io_plugins.so']\n",
      "caused by: ['/opt/conda/lib/python3.10/site-packages/tensorflow_io/python/ops/libtensorflow_io_plugins.so: undefined symbol: _ZN3tsl6StatusC1EN10tensorflow5error4CodeESt17basic_string_viewIcSt11char_traitsIcEENS_14SourceLocationE']\n",
      "  warnings.warn(f\"unable to load libtensorflow_io_plugins.so: {e}\")\n",
      "/opt/conda/lib/python3.10/site-packages/tensorflow_io/python/ops/__init__.py:104: UserWarning: file system plugins are not loaded: unable to open file: libtensorflow_io.so, from paths: ['/opt/conda/lib/python3.10/site-packages/tensorflow_io/python/ops/libtensorflow_io.so']\n",
      "caused by: ['/opt/conda/lib/python3.10/site-packages/tensorflow_io/python/ops/libtensorflow_io.so: undefined symbol: _ZTVN10tensorflow13GcsFileSystemE']\n",
      "  warnings.warn(f\"file system plugins are not loaded: {e}\")\n"
     ]
    }
   ],
   "source": [
    "import numpy as np\n",
    "import pandas as pd\n",
    "from sklearn.model_selection import train_test_split\n",
    "from sklearn.svm import SVC\n",
    "from sklearn.metrics import confusion_matrix\n",
    "from sklearn.model_selection import validation_curve\n",
    "from sklearn.model_selection import KFold\n",
    "from sklearn.model_selection import cross_val_score\n",
    "from sklearn.model_selection import GridSearchCV\n",
    "import matplotlib.pyplot as plt\n",
    "import seaborn as sns\n",
    "import keras\n",
    "import tensorflow"
   ]
  },
  {
   "cell_type": "code",
   "execution_count": 3,
   "id": "bde4e85a",
   "metadata": {
    "execution": {
     "iopub.execute_input": "2023-07-11T03:46:59.530719Z",
     "iopub.status.busy": "2023-07-11T03:46:59.529745Z",
     "iopub.status.idle": "2023-07-11T03:46:59.610855Z",
     "shell.execute_reply": "2023-07-11T03:46:59.609527Z"
    },
    "papermill": {
     "duration": 0.09423,
     "end_time": "2023-07-11T03:46:59.613591",
     "exception": false,
     "start_time": "2023-07-11T03:46:59.519361",
     "status": "completed"
    },
    "tags": []
   },
   "outputs": [
    {
     "data": {
      "text/html": [
       "<div>\n",
       "<style scoped>\n",
       "    .dataframe tbody tr th:only-of-type {\n",
       "        vertical-align: middle;\n",
       "    }\n",
       "\n",
       "    .dataframe tbody tr th {\n",
       "        vertical-align: top;\n",
       "    }\n",
       "\n",
       "    .dataframe thead th {\n",
       "        text-align: right;\n",
       "    }\n",
       "</style>\n",
       "<table border=\"1\" class=\"dataframe\">\n",
       "  <thead>\n",
       "    <tr style=\"text-align: right;\">\n",
       "      <th></th>\n",
       "      <th>RowNumber</th>\n",
       "      <th>CustomerId</th>\n",
       "      <th>Surname</th>\n",
       "      <th>CreditScore</th>\n",
       "      <th>Geography</th>\n",
       "      <th>Gender</th>\n",
       "      <th>Age</th>\n",
       "      <th>Tenure</th>\n",
       "      <th>Balance</th>\n",
       "      <th>NumOfProducts</th>\n",
       "      <th>HasCrCard</th>\n",
       "      <th>IsActiveMember</th>\n",
       "      <th>EstimatedSalary</th>\n",
       "      <th>Exited</th>\n",
       "    </tr>\n",
       "  </thead>\n",
       "  <tbody>\n",
       "    <tr>\n",
       "      <th>0</th>\n",
       "      <td>1</td>\n",
       "      <td>15634602</td>\n",
       "      <td>Hargrave</td>\n",
       "      <td>619</td>\n",
       "      <td>France</td>\n",
       "      <td>Female</td>\n",
       "      <td>42</td>\n",
       "      <td>2</td>\n",
       "      <td>0.00</td>\n",
       "      <td>1</td>\n",
       "      <td>1</td>\n",
       "      <td>1</td>\n",
       "      <td>101348.88</td>\n",
       "      <td>1</td>\n",
       "    </tr>\n",
       "    <tr>\n",
       "      <th>1</th>\n",
       "      <td>2</td>\n",
       "      <td>15647311</td>\n",
       "      <td>Hill</td>\n",
       "      <td>608</td>\n",
       "      <td>Spain</td>\n",
       "      <td>Female</td>\n",
       "      <td>41</td>\n",
       "      <td>1</td>\n",
       "      <td>83807.86</td>\n",
       "      <td>1</td>\n",
       "      <td>0</td>\n",
       "      <td>1</td>\n",
       "      <td>112542.58</td>\n",
       "      <td>0</td>\n",
       "    </tr>\n",
       "    <tr>\n",
       "      <th>2</th>\n",
       "      <td>3</td>\n",
       "      <td>15619304</td>\n",
       "      <td>Onio</td>\n",
       "      <td>502</td>\n",
       "      <td>France</td>\n",
       "      <td>Female</td>\n",
       "      <td>42</td>\n",
       "      <td>8</td>\n",
       "      <td>159660.80</td>\n",
       "      <td>3</td>\n",
       "      <td>1</td>\n",
       "      <td>0</td>\n",
       "      <td>113931.57</td>\n",
       "      <td>1</td>\n",
       "    </tr>\n",
       "    <tr>\n",
       "      <th>3</th>\n",
       "      <td>4</td>\n",
       "      <td>15701354</td>\n",
       "      <td>Boni</td>\n",
       "      <td>699</td>\n",
       "      <td>France</td>\n",
       "      <td>Female</td>\n",
       "      <td>39</td>\n",
       "      <td>1</td>\n",
       "      <td>0.00</td>\n",
       "      <td>2</td>\n",
       "      <td>0</td>\n",
       "      <td>0</td>\n",
       "      <td>93826.63</td>\n",
       "      <td>0</td>\n",
       "    </tr>\n",
       "    <tr>\n",
       "      <th>4</th>\n",
       "      <td>5</td>\n",
       "      <td>15737888</td>\n",
       "      <td>Mitchell</td>\n",
       "      <td>850</td>\n",
       "      <td>Spain</td>\n",
       "      <td>Female</td>\n",
       "      <td>43</td>\n",
       "      <td>2</td>\n",
       "      <td>125510.82</td>\n",
       "      <td>1</td>\n",
       "      <td>1</td>\n",
       "      <td>1</td>\n",
       "      <td>79084.10</td>\n",
       "      <td>0</td>\n",
       "    </tr>\n",
       "  </tbody>\n",
       "</table>\n",
       "</div>"
      ],
      "text/plain": [
       "   RowNumber  CustomerId   Surname  CreditScore Geography  Gender  Age  \\\n",
       "0          1    15634602  Hargrave          619    France  Female   42   \n",
       "1          2    15647311      Hill          608     Spain  Female   41   \n",
       "2          3    15619304      Onio          502    France  Female   42   \n",
       "3          4    15701354      Boni          699    France  Female   39   \n",
       "4          5    15737888  Mitchell          850     Spain  Female   43   \n",
       "\n",
       "   Tenure    Balance  NumOfProducts  HasCrCard  IsActiveMember  \\\n",
       "0       2       0.00              1          1               1   \n",
       "1       1   83807.86              1          0               1   \n",
       "2       8  159660.80              3          1               0   \n",
       "3       1       0.00              2          0               0   \n",
       "4       2  125510.82              1          1               1   \n",
       "\n",
       "   EstimatedSalary  Exited  \n",
       "0        101348.88       1  \n",
       "1        112542.58       0  \n",
       "2        113931.57       1  \n",
       "3         93826.63       0  \n",
       "4         79084.10       0  "
      ]
     },
     "execution_count": 3,
     "metadata": {},
     "output_type": "execute_result"
    }
   ],
   "source": [
    "df = pd.read_csv(r\"/kaggle/input/bank-customer-churn-prediction/Churn_Modelling.csv\")\n",
    "df.head()"
   ]
  },
  {
   "cell_type": "code",
   "execution_count": 4,
   "id": "ed2445c2",
   "metadata": {
    "execution": {
     "iopub.execute_input": "2023-07-11T03:46:59.634743Z",
     "iopub.status.busy": "2023-07-11T03:46:59.633808Z",
     "iopub.status.idle": "2023-07-11T03:46:59.659919Z",
     "shell.execute_reply": "2023-07-11T03:46:59.658734Z"
    },
    "papermill": {
     "duration": 0.039966,
     "end_time": "2023-07-11T03:46:59.662858",
     "exception": false,
     "start_time": "2023-07-11T03:46:59.622892",
     "status": "completed"
    },
    "tags": []
   },
   "outputs": [
    {
     "data": {
      "text/plain": [
       "0"
      ]
     },
     "execution_count": 4,
     "metadata": {},
     "output_type": "execute_result"
    }
   ],
   "source": [
    "# checking the duplicated values in data \n",
    "df.duplicated().sum()"
   ]
  },
  {
   "cell_type": "code",
   "execution_count": 5,
   "id": "444856ee",
   "metadata": {
    "execution": {
     "iopub.execute_input": "2023-07-11T03:46:59.684164Z",
     "iopub.status.busy": "2023-07-11T03:46:59.683208Z",
     "iopub.status.idle": "2023-07-11T03:46:59.732731Z",
     "shell.execute_reply": "2023-07-11T03:46:59.731556Z"
    },
    "papermill": {
     "duration": 0.063757,
     "end_time": "2023-07-11T03:46:59.735890",
     "exception": false,
     "start_time": "2023-07-11T03:46:59.672133",
     "status": "completed"
    },
    "tags": []
   },
   "outputs": [
    {
     "name": "stdout",
     "output_type": "stream",
     "text": [
      "France\n",
      "37.0\n",
      "1.0\n",
      "1.0\n",
      "<class 'pandas.core.frame.DataFrame'>\n",
      "RangeIndex: 10000 entries, 0 to 9999\n",
      "Data columns (total 14 columns):\n",
      " #   Column           Non-Null Count  Dtype  \n",
      "---  ------           --------------  -----  \n",
      " 0   RowNumber        10000 non-null  int64  \n",
      " 1   CustomerId       10000 non-null  int64  \n",
      " 2   Surname          10000 non-null  object \n",
      " 3   CreditScore      10000 non-null  int64  \n",
      " 4   Geography        10000 non-null  object \n",
      " 5   Gender           10000 non-null  object \n",
      " 6   Age              10000 non-null  int64  \n",
      " 7   Tenure           10000 non-null  int64  \n",
      " 8   Balance          10000 non-null  float64\n",
      " 9   NumOfProducts    10000 non-null  int64  \n",
      " 10  HasCrCard        10000 non-null  int64  \n",
      " 11  IsActiveMember   10000 non-null  int64  \n",
      " 12  EstimatedSalary  10000 non-null  float64\n",
      " 13  Exited           10000 non-null  int64  \n",
      "dtypes: float64(2), int64(9), object(3)\n",
      "memory usage: 1.1+ MB\n"
     ]
    }
   ],
   "source": [
    "#1 Misssing value\n",
    "# checking the missing columns values then fill the null values \n",
    "print(df[\"Geography\"].mode()[0])\n",
    "print(df[\"Age\"].median())\n",
    "print(df[\"HasCrCard\"].median())\n",
    "print(df[\"IsActiveMember\"].median())\n",
    "df[\"Geography\"] = df[\"Geography\"].fillna(df[\"Geography\"].mode()[0])\n",
    "df[\"Age\"]= df[\"Age\"].fillna(df[\"Age\"].median())\n",
    "df[\"HasCrCard\"]=df[\"HasCrCard\"].fillna(df[\"HasCrCard\"].median())\n",
    "df[\"IsActiveMember\"] = df[\"IsActiveMember\"].fillna(df[\"IsActiveMember\"].median())\n",
    "df.info()"
   ]
  },
  {
   "cell_type": "markdown",
   "id": "14273f68",
   "metadata": {
    "papermill": {
     "duration": 0.009235,
     "end_time": "2023-07-11T03:46:59.754456",
     "exception": false,
     "start_time": "2023-07-11T03:46:59.745221",
     "status": "completed"
    },
    "tags": []
   },
   "source": [
    "# Data Visualization"
   ]
  },
  {
   "cell_type": "code",
   "execution_count": 6,
   "id": "43bff973",
   "metadata": {
    "execution": {
     "iopub.execute_input": "2023-07-11T03:46:59.775728Z",
     "iopub.status.busy": "2023-07-11T03:46:59.774862Z",
     "iopub.status.idle": "2023-07-11T03:46:59.785245Z",
     "shell.execute_reply": "2023-07-11T03:46:59.784184Z"
    },
    "papermill": {
     "duration": 0.024353,
     "end_time": "2023-07-11T03:46:59.788064",
     "exception": false,
     "start_time": "2023-07-11T03:46:59.763711",
     "status": "completed"
    },
    "tags": []
   },
   "outputs": [],
   "source": [
    "# color patettes\n",
    "color_1 = sns.color_palette(\"Accent\",10)\n",
    "color_2 = sns.color_palette(\"mako_r\",10)\n",
    "color_3 = sns.color_palette(\"Spectral_r\",10)\n",
    "color_4 = sns.color_palette()"
   ]
  },
  {
   "cell_type": "code",
   "execution_count": 7,
   "id": "e72f09f4",
   "metadata": {
    "execution": {
     "iopub.execute_input": "2023-07-11T03:46:59.810802Z",
     "iopub.status.busy": "2023-07-11T03:46:59.810328Z",
     "iopub.status.idle": "2023-07-11T03:47:00.238887Z",
     "shell.execute_reply": "2023-07-11T03:47:00.237458Z"
    },
    "papermill": {
     "duration": 0.444284,
     "end_time": "2023-07-11T03:47:00.241699",
     "exception": false,
     "start_time": "2023-07-11T03:46:59.797415",
     "status": "completed"
    },
    "tags": []
   },
   "outputs": [
    {
     "name": "stdout",
     "output_type": "stream",
     "text": [
      "0    7963\n",
      "1    2037\n",
      "Name: Exited, dtype: int64\n"
     ]
    },
    {
     "data": {
      "image/png": "[encoded data removed]",
      "text/plain": [
       "<Figure size 1500x400 with 2 Axes>"
      ]
     },
     "metadata": {},
     "output_type": "display_data"
    }
   ],
   "source": [
    "# find the the insight the exited columns and visualization using the countplot for seaborn and pie plot.\n",
    "plt.figure(figsize=(15,4))\n",
    "plt.subplot(1,2,1)\n",
    "sns.countplot(x=df[\"Exited\"],palette=color_1)\n",
    "\n",
    "plt.subplot(1,2,2)\n",
    "plt.pie(df[\"Exited\"].value_counts(),explode=[0.0,0.1],labels=[\"current customers\",\"exited customers\"],\n",
    "        colors=color_1,autopct=\"%.01f%%\")\n",
    "print(df[\"Exited\"].value_counts())"
   ]
  },
  {
   "cell_type": "code",
   "execution_count": 8,
   "id": "91a19a62",
   "metadata": {
    "execution": {
     "iopub.execute_input": "2023-07-11T03:47:00.264788Z",
     "iopub.status.busy": "2023-07-11T03:47:00.263372Z",
     "iopub.status.idle": "2023-07-11T03:47:00.817022Z",
     "shell.execute_reply": "2023-07-11T03:47:00.815999Z"
    },
    "papermill": {
     "duration": 0.567563,
     "end_time": "2023-07-11T03:47:00.819343",
     "exception": false,
     "start_time": "2023-07-11T03:47:00.251780",
     "status": "completed"
    },
    "tags": []
   },
   "outputs": [
    {
     "name": "stdout",
     "output_type": "stream",
     "text": [
      "Exited  Geography\n",
      "0       France       4204\n",
      "        Spain        2064\n",
      "        Germany      1695\n",
      "1       Germany       814\n",
      "        France        810\n",
      "        Spain         413\n",
      "Name: Geography, dtype: int64\n"
     ]
    },
    {
     "data": {
      "image/png": "[encoded data removed]",
      "text/plain": [
       "<Figure size 1200x1000 with 2 Axes>"
      ]
     },
     "metadata": {},
     "output_type": "display_data"
    }
   ],
   "source": [
    "# find the insight and visualation plot wise \n",
    "\n",
    "label = [\"France_0\",\"Spain_0\",\"Germany_0\",\"Germany_1\",\"France_1\",\"Spain_1\"]\n",
    "eplode = [0.1,0.0,0.0,0.0,0.0,0.0]\n",
    "plt.figure(figsize=(12,10))\n",
    "plt.subplot(2,2,1)\n",
    "sns.countplot(data=df,x=\"Geography\",hue=\"Exited\",palette=color_4)\n",
    "plt.subplot(2,2,2)\n",
    "plt.pie(df.Geography.groupby(df.Exited).value_counts(),explode=eplode,shadow=True,colors=color_1,\n",
    "        labels=label,autopct=\"%0.1f%%\")\n",
    "\n",
    "\n",
    "print(df.Geography.groupby(df.Exited).value_counts())"
   ]
  },
  {
   "cell_type": "markdown",
   "id": "10695b18",
   "metadata": {
    "papermill": {
     "duration": 0.013706,
     "end_time": "2023-07-11T03:47:00.844307",
     "exception": false,
     "start_time": "2023-07-11T03:47:00.830601",
     "status": "completed"
    },
    "tags": []
   },
   "source": [
    "> ****Observation**:**\n",
    "\n",
    "Insight of the Geography column: mostly customer are exited from Germany 8.1% and France 8.1% and Spain 4.1%."
   ]
  },
  {
   "cell_type": "code",
   "execution_count": 9,
   "id": "285011ae",
   "metadata": {
    "execution": {
     "iopub.execute_input": "2023-07-11T03:47:00.869481Z",
     "iopub.status.busy": "2023-07-11T03:47:00.868633Z",
     "iopub.status.idle": "2023-07-11T03:47:01.326773Z",
     "shell.execute_reply": "2023-07-11T03:47:01.325360Z"
    },
    "papermill": {
     "duration": 0.474178,
     "end_time": "2023-07-11T03:47:01.329964",
     "exception": false,
     "start_time": "2023-07-11T03:47:00.855786",
     "status": "completed"
    },
    "tags": []
   },
   "outputs": [
    {
     "name": "stdout",
     "output_type": "stream",
     "text": [
      "Exited  Gender\n",
      "0       Male      4559\n",
      "        Female    3404\n",
      "1       Female    1139\n",
      "        Male       898\n",
      "Name: Gender, dtype: int64\n"
     ]
    },
    {
     "data": {
      "image/png": "[encoded data removed]",
      "text/plain": [
       "<Figure size 1200x1000 with 2 Axes>"
      ]
     },
     "metadata": {},
     "output_type": "display_data"
    }
   ],
   "source": [
    "# find the insight and visualation plot wise \n",
    "\n",
    "label = [\"Male_0\",\"Female_0\",\"Female_1\",\"Male_1\"]\n",
    "eplode = [0.0,0.1,0.0,0.0]\n",
    "plt.figure(figsize=(12,10))\n",
    "plt.subplot(2,2,1)\n",
    "sns.countplot(data=df, x=\"Gender\",hue=\"Exited\",palette=color_4)\n",
    "plt.subplot(2,2,2)\n",
    "plt.pie(df.Gender.groupby(df.Exited).value_counts(),explode=eplode,\n",
    "        labels=label,colors=color_1,shadow=True,autopct=\"%0.1f%%\")\n",
    "\n",
    "print(df.Gender.groupby(df.Exited).value_counts())\n"
   ]
  },
  {
   "cell_type": "markdown",
   "id": "3df5d847",
   "metadata": {
    "papermill": {
     "duration": 0.011965,
     "end_time": "2023-07-11T03:47:01.354210",
     "exception": false,
     "start_time": "2023-07-11T03:47:01.342245",
     "status": "completed"
    },
    "tags": []
   },
   "source": [
    "Insight of the Gender column: mostly female customers are exited around 11.4% and male are exited around 9%."
   ]
  },
  {
   "cell_type": "code",
   "execution_count": 10,
   "id": "6ce81afb",
   "metadata": {
    "execution": {
     "iopub.execute_input": "2023-07-11T03:47:01.380986Z",
     "iopub.status.busy": "2023-07-11T03:47:01.380526Z",
     "iopub.status.idle": "2023-07-11T03:47:02.086075Z",
     "shell.execute_reply": "2023-07-11T03:47:02.084821Z"
    },
    "papermill": {
     "duration": 0.722455,
     "end_time": "2023-07-11T03:47:02.089028",
     "exception": false,
     "start_time": "2023-07-11T03:47:01.366573",
     "status": "completed"
    },
    "tags": []
   },
   "outputs": [
    {
     "name": "stdout",
     "output_type": "stream",
     "text": [
      "Exited  NumOfProducts\n",
      "0       2                4242\n",
      "        1                3675\n",
      "        3                  46\n",
      "1       1                1409\n",
      "        2                 348\n",
      "        3                 220\n",
      "        4                  60\n",
      "Name: NumOfProducts, dtype: int64\n",
      "------------------------------\n",
      "Exited  HasCrCard\n",
      "0       1            5631\n",
      "        0            2332\n",
      "1       1            1424\n",
      "        0             613\n",
      "Name: HasCrCard, dtype: int64\n",
      "------------------------------\n",
      "Exited  IsActiveMember\n",
      "0       1                 4416\n",
      "        0                 3547\n",
      "1       0                 1302\n",
      "        1                  735\n",
      "Name: IsActiveMember, dtype: int64\n"
     ]
    },
    {
     "data": {
      "image/png": "[encoded data removed]",
      "text/plain": [
       "<Figure size 1500x1000 with 3 Axes>"
      ]
     },
     "metadata": {},
     "output_type": "display_data"
    }
   ],
   "source": [
    "plt.figure(figsize=(15,10))\n",
    "plt.subplot(3,3,1)\n",
    "sns.countplot(data=df,x=\"NumOfProducts\",hue=\"Exited\",palette=color_1)\n",
    "plt.subplot(3,3,2)\n",
    "sns.countplot(data=df,x=\"HasCrCard\",hue=\"Exited\",palette=color_3)\n",
    "plt.subplot(3,3,3)\n",
    "sns.countplot(data=df,x=\"IsActiveMember\",hue=\"Exited\",palette=color_4)\n",
    "\n",
    "\n",
    "print(df.NumOfProducts.groupby(df.Exited).value_counts())\n",
    "print(\"--\"*15)\n",
    "print(df.HasCrCard.groupby(df.Exited).value_counts())\n",
    "print(\"--\"*15)\n",
    "print(df.IsActiveMember.groupby(df.Exited).value_counts())"
   ]
  },
  {
   "cell_type": "markdown",
   "id": "175f1b94",
   "metadata": {
    "papermill": {
     "duration": 0.012324,
     "end_time": "2023-07-11T03:47:02.114302",
     "exception": false,
     "start_time": "2023-07-11T03:47:02.101978",
     "status": "completed"
    },
    "tags": []
   },
   "source": [
    "### Observation:\n",
    "1. Insight of the NumOfProducts column: most of the 1 NumOfProducts customers are exited around 1409.\n",
    "2. Insight of the HasCrCard column: most of the 1 HasCrCard customers are exited around 1424.\n",
    "3. Insight of the IsActiveMember column: mostly 0 number of active member are exited around 1302. "
   ]
  },
  {
   "cell_type": "code",
   "execution_count": 11,
   "id": "2e0e3681",
   "metadata": {
    "collapsed": true,
    "execution": {
     "iopub.execute_input": "2023-07-11T03:47:02.142047Z",
     "iopub.status.busy": "2023-07-11T03:47:02.141505Z",
     "iopub.status.idle": "2023-07-11T03:47:02.739988Z",
     "shell.execute_reply": "2023-07-11T03:47:02.738767Z"
    },
    "jupyter": {
     "outputs_hidden": true
    },
    "papermill": {
     "duration": 0.61587,
     "end_time": "2023-07-11T03:47:02.742751",
     "exception": false,
     "start_time": "2023-07-11T03:47:02.126881",
     "status": "completed"
    },
    "tags": []
   },
   "outputs": [
    {
     "name": "stdout",
     "output_type": "stream",
     "text": [
      "Exited  CreditScore\n",
      "0       850            190\n",
      "        678             50\n",
      "1       850             43\n",
      "0       684             43\n",
      "        655             43\n",
      "                      ... \n",
      "1       404              1\n",
      "        405              1\n",
      "        407              1\n",
      "        408              1\n",
      "0       405              1\n",
      "Length: 862, dtype: int64\n",
      "------------------------------\n",
      "Exited  Age\n",
      "0       35     417\n",
      "        37     416\n",
      "        38     414\n",
      "        34     414\n",
      "        36     403\n",
      "              ... \n",
      "        88       1\n",
      "        85       1\n",
      "        84       1\n",
      "        83       1\n",
      "1       84       1\n",
      "Length: 128, dtype: int64\n"
     ]
    },
    {
     "data": {
      "image/png": "[encoded data removed]",
      "text/plain": [
       "<Figure size 1500x700 with 2 Axes>"
      ]
     },
     "metadata": {},
     "output_type": "display_data"
    }
   ],
   "source": [
    "\n",
    "plt.figure(figsize=(15,7))\n",
    "plt.subplot(2,2,1)\n",
    "sns.boxplot(y=df[\"CreditScore\"],x=df[\"Exited\"],hue=df[\"Exited\"],palette=color_3)\n",
    "plt.subplot(2,2,2)\n",
    "sns.boxplot(y=df[\"Age\"],x=df[\"Exited\"],hue=df[\"Exited\"],palette=color_1)\n",
    "\n",
    "print(df[[\"Exited\",\"CreditScore\"]].value_counts())\n",
    "print(\"--\"*15)\n",
    "print(df[[\"Exited\",\"Age\"]].value_counts())"
   ]
  },
  {
   "cell_type": "markdown",
   "id": "76d30883",
   "metadata": {
    "papermill": {
     "duration": 0.012844,
     "end_time": "2023-07-11T03:47:02.769203",
     "exception": false,
     "start_time": "2023-07-11T03:47:02.756359",
     "status": "completed"
    },
    "tags": []
   },
   "source": [
    "## Data preprocessing:\n",
    "#### OrdinalEncoder method:\n",
    "\n",
    "OrdinalEncoder is a preprocessing technique in machine learning that transforms categorical variables into ordinal integers, enabling algorithms to better understand and learn from categorical data"
   ]
  },
  {
   "cell_type": "code",
   "execution_count": 12,
   "id": "9c5fd64d",
   "metadata": {
    "execution": {
     "iopub.execute_input": "2023-07-11T03:47:02.798068Z",
     "iopub.status.busy": "2023-07-11T03:47:02.797562Z",
     "iopub.status.idle": "2023-07-11T03:47:02.825419Z",
     "shell.execute_reply": "2023-07-11T03:47:02.824059Z"
    },
    "papermill": {
     "duration": 0.045812,
     "end_time": "2023-07-11T03:47:02.828316",
     "exception": false,
     "start_time": "2023-07-11T03:47:02.782504",
     "status": "completed"
    },
    "tags": []
   },
   "outputs": [
    {
     "name": "stdout",
     "output_type": "stream",
     "text": [
      "0       0.0\n",
      "1       2.0\n",
      "2       0.0\n",
      "3       0.0\n",
      "4       2.0\n",
      "       ... \n",
      "9995    0.0\n",
      "9996    0.0\n",
      "9997    0.0\n",
      "9998    1.0\n",
      "9999    0.0\n",
      "Name: Geography, Length: 10000, dtype: float64\n",
      "0        France\n",
      "1         Spain\n",
      "2        France\n",
      "3        France\n",
      "4         Spain\n",
      "         ...   \n",
      "9995     France\n",
      "9996     France\n",
      "9997     France\n",
      "9998    Germany\n",
      "9999     France\n",
      "Name: Geography, Length: 10000, dtype: object\n",
      "0       0.0\n",
      "1       0.0\n",
      "2       0.0\n",
      "3       0.0\n",
      "4       0.0\n",
      "       ... \n",
      "9995    1.0\n",
      "9996    1.0\n",
      "9997    0.0\n",
      "9998    1.0\n",
      "9999    0.0\n",
      "Name: Gender, Length: 10000, dtype: float64\n"
     ]
    }
   ],
   "source": [
    "#GEOGRAPHY : FRANCE SPAIN GERMANY\n",
    "#GENDER: MALE FEMALE\n",
    "df_new = df.copy()\n",
    "\n",
    "from sklearn.preprocessing import OrdinalEncoder\n",
    "\n",
    "a = [\"Geography\",\"Gender\"] ## select the particalur columns for change the cate to numbric\n",
    "en_ = OrdinalEncoder()     \n",
    "df_new[a] = en_.fit_transform(df_new[a])\n",
    "print(df_new[\"Geography\"])\n",
    "print(df[\"Geography\"])\n",
    "print(df_new[\"Gender\"])"
   ]
  },
  {
   "cell_type": "code",
   "execution_count": 13,
   "id": "1a62349a",
   "metadata": {
    "execution": {
     "iopub.execute_input": "2023-07-11T03:47:02.860226Z",
     "iopub.status.busy": "2023-07-11T03:47:02.859730Z",
     "iopub.status.idle": "2023-07-11T03:47:02.866853Z",
     "shell.execute_reply": "2023-07-11T03:47:02.865892Z"
    },
    "papermill": {
     "duration": 0.026782,
     "end_time": "2023-07-11T03:47:02.869215",
     "exception": false,
     "start_time": "2023-07-11T03:47:02.842433",
     "status": "completed"
    },
    "tags": []
   },
   "outputs": [],
   "source": [
    "# Dropping columns which are not necessary for prediction\n",
    "df_new = df_new.drop([\"RowNumber\", \"CustomerId\", \"Surname\"], axis = 1)"
   ]
  },
  {
   "cell_type": "code",
   "execution_count": 14,
   "id": "081d7bfe",
   "metadata": {
    "execution": {
     "iopub.execute_input": "2023-07-11T03:47:02.898985Z",
     "iopub.status.busy": "2023-07-11T03:47:02.898084Z",
     "iopub.status.idle": "2023-07-11T03:47:02.927543Z",
     "shell.execute_reply": "2023-07-11T03:47:02.926069Z"
    },
    "papermill": {
     "duration": 0.047506,
     "end_time": "2023-07-11T03:47:02.930408",
     "exception": false,
     "start_time": "2023-07-11T03:47:02.882902",
     "status": "completed"
    },
    "tags": []
   },
   "outputs": [
    {
     "data": {
      "text/html": [
       "<div>\n",
       "<style scoped>\n",
       "    .dataframe tbody tr th:only-of-type {\n",
       "        vertical-align: middle;\n",
       "    }\n",
       "\n",
       "    .dataframe tbody tr th {\n",
       "        vertical-align: top;\n",
       "    }\n",
       "\n",
       "    .dataframe thead th {\n",
       "        text-align: right;\n",
       "    }\n",
       "</style>\n",
       "<table border=\"1\" class=\"dataframe\">\n",
       "  <thead>\n",
       "    <tr style=\"text-align: right;\">\n",
       "      <th></th>\n",
       "      <th>CreditScore</th>\n",
       "      <th>Geography</th>\n",
       "      <th>Gender</th>\n",
       "      <th>Age</th>\n",
       "      <th>Tenure</th>\n",
       "      <th>Balance</th>\n",
       "      <th>NumOfProducts</th>\n",
       "      <th>HasCrCard</th>\n",
       "      <th>IsActiveMember</th>\n",
       "      <th>EstimatedSalary</th>\n",
       "      <th>Exited</th>\n",
       "    </tr>\n",
       "  </thead>\n",
       "  <tbody>\n",
       "    <tr>\n",
       "      <th>0</th>\n",
       "      <td>0.538</td>\n",
       "      <td>0.0</td>\n",
       "      <td>0.0</td>\n",
       "      <td>0.324324</td>\n",
       "      <td>0.2</td>\n",
       "      <td>0.000000</td>\n",
       "      <td>1</td>\n",
       "      <td>1</td>\n",
       "      <td>1</td>\n",
       "      <td>0.506735</td>\n",
       "      <td>1</td>\n",
       "    </tr>\n",
       "    <tr>\n",
       "      <th>1</th>\n",
       "      <td>0.516</td>\n",
       "      <td>2.0</td>\n",
       "      <td>0.0</td>\n",
       "      <td>0.310811</td>\n",
       "      <td>0.1</td>\n",
       "      <td>0.334031</td>\n",
       "      <td>1</td>\n",
       "      <td>0</td>\n",
       "      <td>1</td>\n",
       "      <td>0.562709</td>\n",
       "      <td>0</td>\n",
       "    </tr>\n",
       "    <tr>\n",
       "      <th>2</th>\n",
       "      <td>0.304</td>\n",
       "      <td>0.0</td>\n",
       "      <td>0.0</td>\n",
       "      <td>0.324324</td>\n",
       "      <td>0.8</td>\n",
       "      <td>0.636357</td>\n",
       "      <td>3</td>\n",
       "      <td>1</td>\n",
       "      <td>0</td>\n",
       "      <td>0.569654</td>\n",
       "      <td>1</td>\n",
       "    </tr>\n",
       "    <tr>\n",
       "      <th>3</th>\n",
       "      <td>0.698</td>\n",
       "      <td>0.0</td>\n",
       "      <td>0.0</td>\n",
       "      <td>0.283784</td>\n",
       "      <td>0.1</td>\n",
       "      <td>0.000000</td>\n",
       "      <td>2</td>\n",
       "      <td>0</td>\n",
       "      <td>0</td>\n",
       "      <td>0.469120</td>\n",
       "      <td>0</td>\n",
       "    </tr>\n",
       "    <tr>\n",
       "      <th>4</th>\n",
       "      <td>1.000</td>\n",
       "      <td>2.0</td>\n",
       "      <td>0.0</td>\n",
       "      <td>0.337838</td>\n",
       "      <td>0.2</td>\n",
       "      <td>0.500246</td>\n",
       "      <td>1</td>\n",
       "      <td>1</td>\n",
       "      <td>1</td>\n",
       "      <td>0.395400</td>\n",
       "      <td>0</td>\n",
       "    </tr>\n",
       "  </tbody>\n",
       "</table>\n",
       "</div>"
      ],
      "text/plain": [
       "   CreditScore  Geography  Gender       Age  Tenure   Balance  NumOfProducts  \\\n",
       "0        0.538        0.0     0.0  0.324324     0.2  0.000000              1   \n",
       "1        0.516        2.0     0.0  0.310811     0.1  0.334031              1   \n",
       "2        0.304        0.0     0.0  0.324324     0.8  0.636357              3   \n",
       "3        0.698        0.0     0.0  0.283784     0.1  0.000000              2   \n",
       "4        1.000        2.0     0.0  0.337838     0.2  0.500246              1   \n",
       "\n",
       "   HasCrCard  IsActiveMember  EstimatedSalary  Exited  \n",
       "0          1               1         0.506735       1  \n",
       "1          0               1         0.562709       0  \n",
       "2          1               0         0.569654       1  \n",
       "3          0               0         0.469120       0  \n",
       "4          1               1         0.395400       0  "
      ]
     },
     "execution_count": 14,
     "metadata": {},
     "output_type": "execute_result"
    }
   ],
   "source": [
    "## select the particalur columns for convert 0 to 1 using feature scaling method by sklearn.\n",
    "b = ['CreditScore','Age', 'Tenure', 'Balance','EstimatedSalary']\n",
    "\n",
    "from sklearn.preprocessing import MinMaxScaler\n",
    "\n",
    "mix_scaler = MinMaxScaler()\n",
    "df_new[b]= mix_scaler.fit_transform(df_new[b])\n",
    "df_new.head()\n"
   ]
  },
  {
   "cell_type": "code",
   "execution_count": 15,
   "id": "4e3a9944",
   "metadata": {
    "execution": {
     "iopub.execute_input": "2023-07-11T03:47:02.961743Z",
     "iopub.status.busy": "2023-07-11T03:47:02.960506Z",
     "iopub.status.idle": "2023-07-11T03:47:02.973489Z",
     "shell.execute_reply": "2023-07-11T03:47:02.972258Z"
    },
    "papermill": {
     "duration": 0.031017,
     "end_time": "2023-07-11T03:47:02.975697",
     "exception": false,
     "start_time": "2023-07-11T03:47:02.944680",
     "status": "completed"
    },
    "tags": []
   },
   "outputs": [
    {
     "name": "stdout",
     "output_type": "stream",
     "text": [
      "(8000, 10)\n",
      "(8000,)\n",
      "(2000, 10)\n",
      "(2000,)\n"
     ]
    }
   ],
   "source": [
    "x_1 = df_new.iloc[:,:-1]\n",
    "y_1 = df_new[\"Exited\"]\n",
    "from sklearn.model_selection import train_test_split\n",
    "\n",
    "x_train,x_test,y_train,y_test = train_test_split(x_1,y_1,test_size=0.20,random_state=43)\n",
    "print(x_train.shape)\n",
    "print(y_train.shape)\n",
    "print(x_test.shape)\n",
    "print(y_test.shape)"
   ]
  },
  {
   "cell_type": "code",
   "execution_count": 16,
   "id": "654c11e1",
   "metadata": {
    "execution": {
     "iopub.execute_input": "2023-07-11T03:47:03.006046Z",
     "iopub.status.busy": "2023-07-11T03:47:03.005227Z",
     "iopub.status.idle": "2023-07-11T03:47:03.020567Z",
     "shell.execute_reply": "2023-07-11T03:47:03.019017Z"
    },
    "papermill": {
     "duration": 0.032915,
     "end_time": "2023-07-11T03:47:03.022840",
     "exception": false,
     "start_time": "2023-07-11T03:47:02.989925",
     "status": "completed"
    },
    "tags": []
   },
   "outputs": [
    {
     "name": "stdout",
     "output_type": "stream",
     "text": [
      "<class 'pandas.core.frame.DataFrame'>\n",
      "Int64Index: 8000 entries, 6100 to 3392\n",
      "Data columns (total 10 columns):\n",
      " #   Column           Non-Null Count  Dtype  \n",
      "---  ------           --------------  -----  \n",
      " 0   CreditScore      8000 non-null   float64\n",
      " 1   Geography        8000 non-null   float64\n",
      " 2   Gender           8000 non-null   float64\n",
      " 3   Age              8000 non-null   float64\n",
      " 4   Tenure           8000 non-null   float64\n",
      " 5   Balance          8000 non-null   float64\n",
      " 6   NumOfProducts    8000 non-null   int64  \n",
      " 7   HasCrCard        8000 non-null   int64  \n",
      " 8   IsActiveMember   8000 non-null   int64  \n",
      " 9   EstimatedSalary  8000 non-null   float64\n",
      "dtypes: float64(7), int64(3)\n",
      "memory usage: 687.5 KB\n"
     ]
    }
   ],
   "source": [
    "x_train.info()"
   ]
  },
  {
   "cell_type": "code",
   "execution_count": 17,
   "id": "a58bd0ee",
   "metadata": {
    "execution": {
     "iopub.execute_input": "2023-07-11T03:47:03.053096Z",
     "iopub.status.busy": "2023-07-11T03:47:03.052210Z",
     "iopub.status.idle": "2023-07-11T03:47:18.728656Z",
     "shell.execute_reply": "2023-07-11T03:47:18.727326Z"
    },
    "papermill": {
     "duration": 15.694743,
     "end_time": "2023-07-11T03:47:18.731591",
     "exception": false,
     "start_time": "2023-07-11T03:47:03.036848",
     "status": "completed"
    },
    "tags": []
   },
   "outputs": [
    {
     "data": {
      "text/html": [
       "<style>#sk-container-id-1 {color: black;background-color: white;}#sk-container-id-1 pre{padding: 0;}#sk-container-id-1 div.sk-toggleable {background-color: white;}#sk-container-id-1 label.sk-toggleable__label {cursor: pointer;display: block;width: 100%;margin-bottom: 0;padding: 0.3em;box-sizing: border-box;text-align: center;}#sk-container-id-1 label.sk-toggleable__label-arrow:before {content: \"▸\";float: left;margin-right: 0.25em;color: #696969;}#sk-container-id-1 label.sk-toggleable__label-arrow:hover:before {color: black;}#sk-container-id-1 div.sk-estimator:hover label.sk-toggleable__label-arrow:before {color: black;}#sk-container-id-1 div.sk-toggleable__content {max-height: 0;max-width: 0;overflow: hidden;text-align: left;background-color: #f0f8ff;}#sk-container-id-1 div.sk-toggleable__content pre {margin: 0.2em;color: black;border-radius: 0.25em;background-color: #f0f8ff;}#sk-container-id-1 input.sk-toggleable__control:checked~div.sk-toggleable__content {max-height: 200px;max-width: 100%;overflow: auto;}#sk-container-id-1 input.sk-toggleable__control:checked~label.sk-toggleable__label-arrow:before {content: \"▾\";}#sk-container-id-1 div.sk-estimator input.sk-toggleable__control:checked~label.sk-toggleable__label {background-color: #d4ebff;}#sk-container-id-1 div.sk-label input.sk-toggleable__control:checked~label.sk-toggleable__label {background-color: #d4ebff;}#sk-container-id-1 input.sk-hidden--visually {border: 0;clip: rect(1px 1px 1px 1px);clip: rect(1px, 1px, 1px, 1px);height: 1px;margin: -1px;overflow: hidden;padding: 0;position: absolute;width: 1px;}#sk-container-id-1 div.sk-estimator {font-family: monospace;background-color: #f0f8ff;border: 1px dotted black;border-radius: 0.25em;box-sizing: border-box;margin-bottom: 0.5em;}#sk-container-id-1 div.sk-estimator:hover {background-color: #d4ebff;}#sk-container-id-1 div.sk-parallel-item::after {content: \"\";width: 100%;border-bottom: 1px solid gray;flex-grow: 1;}#sk-container-id-1 div.sk-label:hover label.sk-toggleable__label {background-color: #d4ebff;}#sk-container-id-1 div.sk-serial::before {content: \"\";position: absolute;border-left: 1px solid gray;box-sizing: border-box;top: 0;bottom: 0;left: 50%;z-index: 0;}#sk-container-id-1 div.sk-serial {display: flex;flex-direction: column;align-items: center;background-color: white;padding-right: 0.2em;padding-left: 0.2em;position: relative;}#sk-container-id-1 div.sk-item {position: relative;z-index: 1;}#sk-container-id-1 div.sk-parallel {display: flex;align-items: stretch;justify-content: center;background-color: white;position: relative;}#sk-container-id-1 div.sk-item::before, #sk-container-id-1 div.sk-parallel-item::before {content: \"\";position: absolute;border-left: 1px solid gray;box-sizing: border-box;top: 0;bottom: 0;left: 50%;z-index: -1;}#sk-container-id-1 div.sk-parallel-item {display: flex;flex-direction: column;z-index: 1;position: relative;background-color: white;}#sk-container-id-1 div.sk-parallel-item:first-child::after {align-self: flex-end;width: 50%;}#sk-container-id-1 div.sk-parallel-item:last-child::after {align-self: flex-start;width: 50%;}#sk-container-id-1 div.sk-parallel-item:only-child::after {width: 0;}#sk-container-id-1 div.sk-dashed-wrapped {border: 1px dashed gray;margin: 0 0.4em 0.5em 0.4em;box-sizing: border-box;padding-bottom: 0.4em;background-color: white;}#sk-container-id-1 div.sk-label label {font-family: monospace;font-weight: bold;display: inline-block;line-height: 1.2em;}#sk-container-id-1 div.sk-label-container {text-align: center;}#sk-container-id-1 div.sk-container {/* jupyter's `normalize.less` sets `[hidden] { display: none; }` but bootstrap.min.css set `[hidden] { display: none !important; }` so we also need the `!important` here to be able to override the default hidden behavior on the sphinx rendered scikit-learn.org. See: https://github.com/scikit-learn/scikit-learn/issues/21755 */display: inline-block !important;position: relative;}#sk-container-id-1 div.sk-text-repr-fallback {display: none;}</style><div id=\"sk-container-id-1\" class=\"sk-top-container\"><div class=\"sk-text-repr-fallback\"><pre>SVC(C=150, gamma=0.1, probability=True)</pre><b>In a Jupyter environment, please rerun this cell to show the HTML representation or trust the notebook. <br />On GitHub, the HTML representation is unable to render, please try loading this page with nbviewer.org.</b></div><div class=\"sk-container\" hidden><div class=\"sk-item\"><div class=\"sk-estimator sk-toggleable\"><input class=\"sk-toggleable__control sk-hidden--visually\" id=\"sk-estimator-id-1\" type=\"checkbox\" checked><label for=\"sk-estimator-id-1\" class=\"sk-toggleable__label sk-toggleable__label-arrow\">SVC</label><div class=\"sk-toggleable__content\"><pre>SVC(C=150, gamma=0.1, probability=True)</pre></div></div></div></div></div>"
      ],
      "text/plain": [
       "SVC(C=150, gamma=0.1, probability=True)"
      ]
     },
     "execution_count": 17,
     "metadata": {},
     "output_type": "execute_result"
    }
   ],
   "source": [
    "# Fit SVM with RBF Kernel\n",
    "SVM_RBF = SVC(C=150, cache_size=200, class_weight=None, coef0=0.0, decision_function_shape='ovr', degree=3, gamma=0.1, kernel='rbf', max_iter=-1, probability=True, \n",
    "              random_state=None, shrinking=True,tol=0.001, verbose=False)\n",
    "SVM_RBF.fit(x_train,y_train)"
   ]
  },
  {
   "cell_type": "code",
   "execution_count": 18,
   "id": "8e3c70e0",
   "metadata": {
    "execution": {
     "iopub.execute_input": "2023-07-11T03:47:18.764040Z",
     "iopub.status.busy": "2023-07-11T03:47:18.762665Z",
     "iopub.status.idle": "2023-07-11T03:47:34.816026Z",
     "shell.execute_reply": "2023-07-11T03:47:34.814857Z"
    },
    "papermill": {
     "duration": 16.072264,
     "end_time": "2023-07-11T03:47:34.818673",
     "exception": false,
     "start_time": "2023-07-11T03:47:18.746409",
     "status": "completed"
    },
    "tags": []
   },
   "outputs": [
    {
     "data": {
      "text/html": [
       "<style>#sk-container-id-2 {color: black;background-color: white;}#sk-container-id-2 pre{padding: 0;}#sk-container-id-2 div.sk-toggleable {background-color: white;}#sk-container-id-2 label.sk-toggleable__label {cursor: pointer;display: block;width: 100%;margin-bottom: 0;padding: 0.3em;box-sizing: border-box;text-align: center;}#sk-container-id-2 label.sk-toggleable__label-arrow:before {content: \"▸\";float: left;margin-right: 0.25em;color: #696969;}#sk-container-id-2 label.sk-toggleable__label-arrow:hover:before {color: black;}#sk-container-id-2 div.sk-estimator:hover label.sk-toggleable__label-arrow:before {color: black;}#sk-container-id-2 div.sk-toggleable__content {max-height: 0;max-width: 0;overflow: hidden;text-align: left;background-color: #f0f8ff;}#sk-container-id-2 div.sk-toggleable__content pre {margin: 0.2em;color: black;border-radius: 0.25em;background-color: #f0f8ff;}#sk-container-id-2 input.sk-toggleable__control:checked~div.sk-toggleable__content {max-height: 200px;max-width: 100%;overflow: auto;}#sk-container-id-2 input.sk-toggleable__control:checked~label.sk-toggleable__label-arrow:before {content: \"▾\";}#sk-container-id-2 div.sk-estimator input.sk-toggleable__control:checked~label.sk-toggleable__label {background-color: #d4ebff;}#sk-container-id-2 div.sk-label input.sk-toggleable__control:checked~label.sk-toggleable__label {background-color: #d4ebff;}#sk-container-id-2 input.sk-hidden--visually {border: 0;clip: rect(1px 1px 1px 1px);clip: rect(1px, 1px, 1px, 1px);height: 1px;margin: -1px;overflow: hidden;padding: 0;position: absolute;width: 1px;}#sk-container-id-2 div.sk-estimator {font-family: monospace;background-color: #f0f8ff;border: 1px dotted black;border-radius: 0.25em;box-sizing: border-box;margin-bottom: 0.5em;}#sk-container-id-2 div.sk-estimator:hover {background-color: #d4ebff;}#sk-container-id-2 div.sk-parallel-item::after {content: \"\";width: 100%;border-bottom: 1px solid gray;flex-grow: 1;}#sk-container-id-2 div.sk-label:hover label.sk-toggleable__label {background-color: #d4ebff;}#sk-container-id-2 div.sk-serial::before {content: \"\";position: absolute;border-left: 1px solid gray;box-sizing: border-box;top: 0;bottom: 0;left: 50%;z-index: 0;}#sk-container-id-2 div.sk-serial {display: flex;flex-direction: column;align-items: center;background-color: white;padding-right: 0.2em;padding-left: 0.2em;position: relative;}#sk-container-id-2 div.sk-item {position: relative;z-index: 1;}#sk-container-id-2 div.sk-parallel {display: flex;align-items: stretch;justify-content: center;background-color: white;position: relative;}#sk-container-id-2 div.sk-item::before, #sk-container-id-2 div.sk-parallel-item::before {content: \"\";position: absolute;border-left: 1px solid gray;box-sizing: border-box;top: 0;bottom: 0;left: 50%;z-index: -1;}#sk-container-id-2 div.sk-parallel-item {display: flex;flex-direction: column;z-index: 1;position: relative;background-color: white;}#sk-container-id-2 div.sk-parallel-item:first-child::after {align-self: flex-end;width: 50%;}#sk-container-id-2 div.sk-parallel-item:last-child::after {align-self: flex-start;width: 50%;}#sk-container-id-2 div.sk-parallel-item:only-child::after {width: 0;}#sk-container-id-2 div.sk-dashed-wrapped {border: 1px dashed gray;margin: 0 0.4em 0.5em 0.4em;box-sizing: border-box;padding-bottom: 0.4em;background-color: white;}#sk-container-id-2 div.sk-label label {font-family: monospace;font-weight: bold;display: inline-block;line-height: 1.2em;}#sk-container-id-2 div.sk-label-container {text-align: center;}#sk-container-id-2 div.sk-container {/* jupyter's `normalize.less` sets `[hidden] { display: none; }` but bootstrap.min.css set `[hidden] { display: none !important; }` so we also need the `!important` here to be able to override the default hidden behavior on the sphinx rendered scikit-learn.org. See: https://github.com/scikit-learn/scikit-learn/issues/21755 */display: inline-block !important;position: relative;}#sk-container-id-2 div.sk-text-repr-fallback {display: none;}</style><div id=\"sk-container-id-2\" class=\"sk-top-container\"><div class=\"sk-text-repr-fallback\"><pre>SVC(C=100, degree=2, gamma=0.1, kernel=&#x27;poly&#x27;, probability=True)</pre><b>In a Jupyter environment, please rerun this cell to show the HTML representation or trust the notebook. <br />On GitHub, the HTML representation is unable to render, please try loading this page with nbviewer.org.</b></div><div class=\"sk-container\" hidden><div class=\"sk-item\"><div class=\"sk-estimator sk-toggleable\"><input class=\"sk-toggleable__control sk-hidden--visually\" id=\"sk-estimator-id-2\" type=\"checkbox\" checked><label for=\"sk-estimator-id-2\" class=\"sk-toggleable__label sk-toggleable__label-arrow\">SVC</label><div class=\"sk-toggleable__content\"><pre>SVC(C=100, degree=2, gamma=0.1, kernel=&#x27;poly&#x27;, probability=True)</pre></div></div></div></div></div>"
      ],
      "text/plain": [
       "SVC(C=100, degree=2, gamma=0.1, kernel='poly', probability=True)"
      ]
     },
     "execution_count": 18,
     "metadata": {},
     "output_type": "execute_result"
    }
   ],
   "source": [
    "# Fit SVM with Pol Kernel\n",
    "SVM_POL = SVC(C=100, cache_size=200, class_weight=None, coef0=0.0,  decision_function_shape='ovr', degree=2, gamma=0.1, kernel='poly',  max_iter=-1,\n",
    "              probability=True, random_state=None, shrinking=True, tol=0.001, verbose=False)\n",
    "SVM_POL.fit(x_train,y_train)"
   ]
  },
  {
   "cell_type": "code",
   "execution_count": 19,
   "id": "ec348c9c",
   "metadata": {
    "execution": {
     "iopub.execute_input": "2023-07-11T03:47:34.850385Z",
     "iopub.status.busy": "2023-07-11T03:47:34.849914Z",
     "iopub.status.idle": "2023-07-11T03:47:36.733699Z",
     "shell.execute_reply": "2023-07-11T03:47:36.732333Z"
    },
    "papermill": {
     "duration": 1.90309,
     "end_time": "2023-07-11T03:47:36.736480",
     "exception": false,
     "start_time": "2023-07-11T03:47:34.833390",
     "status": "completed"
    },
    "tags": []
   },
   "outputs": [
    {
     "name": "stdout",
     "output_type": "stream",
     "text": [
      "              precision    recall  f1-score   support\n",
      "\n",
      "           0       0.87      0.98      0.92      6375\n",
      "           1       0.81      0.41      0.54      1625\n",
      "\n",
      "    accuracy                           0.86      8000\n",
      "   macro avg       0.84      0.69      0.73      8000\n",
      "weighted avg       0.86      0.86      0.84      8000\n",
      "\n",
      "              precision    recall  f1-score   support\n",
      "\n",
      "           0       0.84      0.99      0.91      6375\n",
      "           1       0.85      0.24      0.37      1625\n",
      "\n",
      "    accuracy                           0.84      8000\n",
      "   macro avg       0.84      0.61      0.64      8000\n",
      "weighted avg       0.84      0.84      0.80      8000\n",
      "\n"
     ]
    }
   ],
   "source": [
    "from sklearn.metrics import confusion_matrix , classification_report\n",
    "# SVM with RBF kernel\n",
    "print(classification_report(y_train,  SVM_RBF.predict(x_train)))\n",
    "print(classification_report(y_train,  SVM_POL.predict(x_train)))"
   ]
  },
  {
   "cell_type": "code",
   "execution_count": null,
   "id": "496392f2",
   "metadata": {
    "papermill": {
     "duration": 0.014783,
     "end_time": "2023-07-11T03:47:36.766806",
     "exception": false,
     "start_time": "2023-07-11T03:47:36.752023",
     "status": "completed"
    },
    "tags": []
   },
   "outputs": [],
   "source": []
  }
 ],
 "metadata": {
  "kernelspec": {
   "display_name": "Python 3",
   "language": "python",
   "name": "python3"
  },
  "language_info": {
   "codemirror_mode": {
    "name": "ipython",
    "version": 3
   },
   "file_extension": ".py",
   "mimetype": "text/x-python",
   "name": "python",
   "nbconvert_exporter": "python",
   "pygments_lexer": "ipython3",
   "version": "3.10.12"
  },
  "papermill": {
   "default_parameters": {},
   "duration": 63.91021,
   "end_time": "2023-07-11T03:47:40.112509",
   "environment_variables": {},
   "exception": null,
   "input_path": "__notebook__.ipynb",
   "output_path": "__notebook__.ipynb",
   "parameters": {},
   "start_time": "2023-07-11T03:46:36.202299",
   "version": "2.4.0"
  }
 },
 "nbformat": 4,
 "nbformat_minor": 5
}
