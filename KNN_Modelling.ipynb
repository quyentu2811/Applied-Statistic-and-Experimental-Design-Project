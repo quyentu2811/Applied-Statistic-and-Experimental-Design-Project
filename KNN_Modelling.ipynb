{
 "cells": [
  {
   "cell_type": "code",
   "execution_count": 1,
   "metadata": {
    "execution": {
     "iopub.execute_input": "2022-11-22T03:19:04.561307Z",
     "iopub.status.busy": "2022-11-22T03:19:04.561307Z",
     "iopub.status.idle": "2022-11-22T03:19:08.880444Z",
     "shell.execute_reply": "2022-11-22T03:19:08.879456Z",
     "shell.execute_reply.started": "2022-11-22T03:19:04.561307Z"
    },
    "tags": []
   },
   "outputs": [],
   "source": [
    "import os\n",
    "\n",
    "import pandas as pd\n",
    "import numpy as np\n",
    "from collections import Counter\n",
    "import matplotlib.pyplot as plt\n",
    "import seaborn as sns\n",
    "from sklearn.model_selection import train_test_split\n",
    "from sklearn.preprocessing import MinMaxScaler, OneHotEncoder, LabelEncoder\n",
    "from sklearn.compose import ColumnTransformer, make_column_transformer\n",
    "from sklearn.pipeline import make_pipeline\n",
    "from sklearn.metrics import confusion_matrix, classification_report\n",
    "from sklearn.pipeline import make_pipeline\n",
    "from imblearn.pipeline import make_pipeline as imbl_pipe\n",
    "from imblearn.over_sampling import SMOTE"
   ]
  },
  {
   "cell_type": "code",
   "execution_count": 2,
   "metadata": {
    "execution": {
     "iopub.execute_input": "2022-11-22T03:19:08.882438Z",
     "iopub.status.busy": "2022-11-22T03:19:08.881439Z",
     "iopub.status.idle": "2022-11-22T03:19:08.927966Z",
     "shell.execute_reply": "2022-11-22T03:19:08.926964Z",
     "shell.execute_reply.started": "2022-11-22T03:19:08.882438Z"
    }
   },
   "outputs": [
    {
     "data": {
      "text/html": [
       "<div>\n",
       "<style scoped>\n",
       "    .dataframe tbody tr th:only-of-type {\n",
       "        vertical-align: middle;\n",
       "    }\n",
       "\n",
       "    .dataframe tbody tr th {\n",
       "        vertical-align: top;\n",
       "    }\n",
       "\n",
       "    .dataframe thead th {\n",
       "        text-align: right;\n",
       "    }\n",
       "</style>\n",
       "<table border=\"1\" class=\"dataframe\">\n",
       "  <thead>\n",
       "    <tr style=\"text-align: right;\">\n",
       "      <th></th>\n",
       "      <th>CreditScore</th>\n",
       "      <th>Geography</th>\n",
       "      <th>Gender</th>\n",
       "      <th>Age</th>\n",
       "      <th>Tenure</th>\n",
       "      <th>Balance</th>\n",
       "      <th>NumOfProducts</th>\n",
       "      <th>HasCrCard</th>\n",
       "      <th>IsActiveMember</th>\n",
       "      <th>EstimatedSalary</th>\n",
       "      <th>Satisfaction Score</th>\n",
       "      <th>Card Type</th>\n",
       "      <th>Point Earned</th>\n",
       "      <th>Exited</th>\n",
       "    </tr>\n",
       "  </thead>\n",
       "  <tbody>\n",
       "    <tr>\n",
       "      <th>0</th>\n",
       "      <td>619</td>\n",
       "      <td>France</td>\n",
       "      <td>Female</td>\n",
       "      <td>42</td>\n",
       "      <td>2</td>\n",
       "      <td>0.00</td>\n",
       "      <td>1</td>\n",
       "      <td>1</td>\n",
       "      <td>1</td>\n",
       "      <td>101348.88</td>\n",
       "      <td>2</td>\n",
       "      <td>DIAMOND</td>\n",
       "      <td>464</td>\n",
       "      <td>1</td>\n",
       "    </tr>\n",
       "    <tr>\n",
       "      <th>1</th>\n",
       "      <td>608</td>\n",
       "      <td>Spain</td>\n",
       "      <td>Female</td>\n",
       "      <td>41</td>\n",
       "      <td>1</td>\n",
       "      <td>83807.86</td>\n",
       "      <td>1</td>\n",
       "      <td>0</td>\n",
       "      <td>1</td>\n",
       "      <td>112542.58</td>\n",
       "      <td>3</td>\n",
       "      <td>DIAMOND</td>\n",
       "      <td>456</td>\n",
       "      <td>0</td>\n",
       "    </tr>\n",
       "    <tr>\n",
       "      <th>2</th>\n",
       "      <td>502</td>\n",
       "      <td>France</td>\n",
       "      <td>Female</td>\n",
       "      <td>42</td>\n",
       "      <td>8</td>\n",
       "      <td>159660.80</td>\n",
       "      <td>3</td>\n",
       "      <td>1</td>\n",
       "      <td>0</td>\n",
       "      <td>113931.57</td>\n",
       "      <td>3</td>\n",
       "      <td>DIAMOND</td>\n",
       "      <td>377</td>\n",
       "      <td>1</td>\n",
       "    </tr>\n",
       "    <tr>\n",
       "      <th>3</th>\n",
       "      <td>699</td>\n",
       "      <td>France</td>\n",
       "      <td>Female</td>\n",
       "      <td>39</td>\n",
       "      <td>1</td>\n",
       "      <td>0.00</td>\n",
       "      <td>2</td>\n",
       "      <td>0</td>\n",
       "      <td>0</td>\n",
       "      <td>93826.63</td>\n",
       "      <td>5</td>\n",
       "      <td>GOLD</td>\n",
       "      <td>350</td>\n",
       "      <td>0</td>\n",
       "    </tr>\n",
       "    <tr>\n",
       "      <th>4</th>\n",
       "      <td>850</td>\n",
       "      <td>Spain</td>\n",
       "      <td>Female</td>\n",
       "      <td>43</td>\n",
       "      <td>2</td>\n",
       "      <td>125510.82</td>\n",
       "      <td>1</td>\n",
       "      <td>1</td>\n",
       "      <td>1</td>\n",
       "      <td>79084.10</td>\n",
       "      <td>5</td>\n",
       "      <td>GOLD</td>\n",
       "      <td>425</td>\n",
       "      <td>0</td>\n",
       "    </tr>\n",
       "  </tbody>\n",
       "</table>\n",
       "</div>"
      ],
      "text/plain": [
       "   CreditScore Geography  Gender  Age  Tenure    Balance  NumOfProducts  \\\n",
       "0          619    France  Female   42       2       0.00              1   \n",
       "1          608     Spain  Female   41       1   83807.86              1   \n",
       "2          502    France  Female   42       8  159660.80              3   \n",
       "3          699    France  Female   39       1       0.00              2   \n",
       "4          850     Spain  Female   43       2  125510.82              1   \n",
       "\n",
       "   HasCrCard  IsActiveMember  EstimatedSalary  Satisfaction Score Card Type  \\\n",
       "0          1               1        101348.88                   2   DIAMOND   \n",
       "1          0               1        112542.58                   3   DIAMOND   \n",
       "2          1               0        113931.57                   3   DIAMOND   \n",
       "3          0               0         93826.63                   5      GOLD   \n",
       "4          1               1         79084.10                   5      GOLD   \n",
       "\n",
       "   Point Earned  Exited  \n",
       "0           464       1  \n",
       "1           456       0  \n",
       "2           377       1  \n",
       "3           350       0  \n",
       "4           425       0  "
      ]
     },
     "execution_count": 2,
     "metadata": {},
     "output_type": "execute_result"
    }
   ],
   "source": [
    "data = pd.read_csv(r'C:\\Users\\Dell\\OneDrive - Hanoi University of Science and Technology\\Desktop\\University\\20222\\Applied statistics and experimental design\\Project\\Data\\analytical_data.csv')\n",
    "data.head()"
   ]
  },
  {
   "cell_type": "code",
   "execution_count": 3,
   "metadata": {},
   "outputs": [
    {
     "name": "stdout",
     "output_type": "stream",
     "text": [
      "<class 'pandas.core.frame.DataFrame'>\n",
      "RangeIndex: 10000 entries, 0 to 9999\n",
      "Data columns (total 14 columns):\n",
      " #   Column              Non-Null Count  Dtype  \n",
      "---  ------              --------------  -----  \n",
      " 0   CreditScore         10000 non-null  int64  \n",
      " 1   Geography           10000 non-null  object \n",
      " 2   Gender              10000 non-null  object \n",
      " 3   Age                 10000 non-null  int64  \n",
      " 4   Tenure              10000 non-null  int64  \n",
      " 5   Balance             10000 non-null  float64\n",
      " 6   NumOfProducts       10000 non-null  int64  \n",
      " 7   HasCrCard           10000 non-null  int64  \n",
      " 8   IsActiveMember      10000 non-null  int64  \n",
      " 9   EstimatedSalary     10000 non-null  float64\n",
      " 10  Satisfaction Score  10000 non-null  int64  \n",
      " 11  Card Type           10000 non-null  object \n",
      " 12  Point Earned        10000 non-null  int64  \n",
      " 13  Exited              10000 non-null  int64  \n",
      "dtypes: float64(2), int64(9), object(3)\n",
      "memory usage: 1.1+ MB\n"
     ]
    }
   ],
   "source": [
    "data.info()"
   ]
  },
  {
   "cell_type": "code",
   "execution_count": 4,
   "metadata": {
    "execution": {
     "iopub.execute_input": "2022-11-22T03:19:08.946965Z",
     "iopub.status.busy": "2022-11-22T03:19:08.946965Z",
     "iopub.status.idle": "2022-11-22T03:19:08.959965Z",
     "shell.execute_reply": "2022-11-22T03:19:08.958963Z",
     "shell.execute_reply.started": "2022-11-22T03:19:08.946965Z"
    }
   },
   "outputs": [],
   "source": [
    "# List numerical features\n",
    "num_features = ['CreditScore', 'Age', 'Tenure', 'Balance', 'NumOfProducts', 'HasCrCard', 'IsActiveMember', 'EstimatedSalary', 'Satisfaction Score', 'Point Earned']\n",
    "data[num_features] = data[num_features].astype('float64')"
   ]
  },
  {
   "cell_type": "code",
   "execution_count": 5,
   "metadata": {
    "execution": {
     "iopub.execute_input": "2022-11-22T03:19:08.961962Z",
     "iopub.status.busy": "2022-11-22T03:19:08.960965Z",
     "iopub.status.idle": "2022-11-22T03:19:08.975966Z",
     "shell.execute_reply": "2022-11-22T03:19:08.974963Z",
     "shell.execute_reply.started": "2022-11-22T03:19:08.961962Z"
    }
   },
   "outputs": [],
   "source": [
    "# List categorical features\n",
    "cat_features = ['Geography', 'Gender', 'Card Type']\n",
    "data[cat_features] = data[cat_features].astype('string')"
   ]
  },
  {
   "cell_type": "markdown",
   "metadata": {},
   "source": [
    "## Pre-processing Pipeline\n",
    " \n",
    " ##Scale numerical data and encode categorical data\n",
    "Construct a pre-processing pipeline from the given transformers: MinMaxScaler and OneHotEncoder Create lists of indexes from the list of column namesNeed to be numeric not string to specify columns name in column transformer"
   ]
  },
  {
   "cell_type": "code",
   "execution_count": 6,
   "metadata": {
    "execution": {
     "iopub.execute_input": "2022-11-22T03:19:09.120008Z",
     "iopub.status.busy": "2022-11-22T03:19:09.119007Z",
     "iopub.status.idle": "2022-11-22T03:19:09.134012Z",
     "shell.execute_reply": "2022-11-22T03:19:09.133008Z",
     "shell.execute_reply.started": "2022-11-22T03:19:09.120008Z"
    }
   },
   "outputs": [
    {
     "name": "stdout",
     "output_type": "stream",
     "text": [
      "Geography has unique values: <StringArray>\n",
      "['France', 'Spain', 'Germany']\n",
      "Length: 3, dtype: string\n",
      "\n",
      "Gender has unique values: <StringArray>\n",
      "['Female', 'Male']\n",
      "Length: 2, dtype: string\n",
      "\n",
      "Card Type has unique values: <StringArray>\n",
      "['DIAMOND', 'GOLD', 'SILVER', 'PLATINUM']\n",
      "Length: 4, dtype: string\n",
      "\n"
     ]
    }
   ],
   "source": [
    "for col in cat_features:\n",
    "    print(f\"{col} has unique values: {data[col].unique()}\")\n",
    "    print(\"\")"
   ]
  },
  {
   "cell_type": "code",
   "execution_count": 7,
   "metadata": {},
   "outputs": [],
   "source": [
    "# One-hot encoding for the cat_features:\n",
    "from sklearn.preprocessing import OneHotEncoder\n",
    "from sklearn.compose import ColumnTransformer\n",
    "column_name = ['Geography', 'Gender', 'Card Type']\n",
    "ct = ColumnTransformer(transformers = [('encoder', OneHotEncoder(), column_name)], remainder = 'passthrough')\n",
    "data_encoder = ct.fit_transform(data)"
   ]
  },
  {
   "cell_type": "markdown",
   "metadata": {},
   "source": [
    "We have 1 options for data scaling :\n",
    "\n",
    "1) Normalization\n",
    "\n",
    "\n",
    "As most of the algorithms assume the data to be normally (Gaussian) distributed, Normalization is done for features whose data does not display normal distribution and standardization is carried out for features that are normally distributed where their values are huge or very small as compared to other features.\n",
    "\n",
    "- Normalization : CreditScore, Balance feature is normalized as it had displayed a right skewed data distribution.\n"
   ]
  },
  {
   "cell_type": "code",
   "execution_count": 8,
   "metadata": {},
   "outputs": [],
   "source": [
    "from sklearn.preprocessing import MinMaxScaler, StandardScaler\n",
    "\n",
    "# Initialize the scalers\n",
    "minmax_scaler = MinMaxScaler()\n",
    "standard_scaler = StandardScaler()\n",
    "\n",
    "# Scale the selected numerical columns using MinMaxScaler and StandardScaler\n",
    "data['CreditScore'] = minmax_scaler.fit_transform(data[['CreditScore']])\n",
    "data['Balance'] = minmax_scaler.fit_transform(data[['Balance']])\n",
    "data['Tenure'] = minmax_scaler.fit_transform(data[['Tenure']])\n",
    "data['Age'] = minmax_scaler.fit_transform(data[['Age']])\n",
    "data['EstimatedSalary'] = minmax_scaler.fit_transform(data[['EstimatedSalary']])\n",
    "data['Point Earned'] = minmax_scaler.fit_transform(data[['Point Earned']])\n",
    "data['NumOfProducts'] = minmax_scaler.fit_transform(data[['NumOfProducts']])\n",
    "data['Satisfaction Score'] = minmax_scaler.fit_transform(data[['Satisfaction Score']])\n",
    "data = np.array(ct.fit_transform(data))"
   ]
  },
  {
   "cell_type": "markdown",
   "metadata": {},
   "source": [
    "## Models Training"
   ]
  },
  {
   "cell_type": "markdown",
   "metadata": {},
   "source": [
    "## Lets' start by splitting our dataframe into separate objects:\n",
    "y for the target variable\n",
    "\n",
    "X for the inpur features"
   ]
  },
  {
   "cell_type": "code",
   "execution_count": 9,
   "metadata": {},
   "outputs": [
    {
     "name": "stdout",
     "output_type": "stream",
     "text": [
      "(10000, 19) (10000,)\n"
     ]
    }
   ],
   "source": [
    "# Separate dataframe into separate objects\n",
    "y = data[:, -1]\n",
    "X = data[:, :-1]\n",
    "# display shapes of X and y\n",
    "print(X.shape, y.shape)"
   ]
  },
  {
   "cell_type": "code",
   "execution_count": 10,
   "metadata": {
    "execution": {
     "iopub.execute_input": "2022-11-22T03:19:09.135008Z",
     "iopub.status.busy": "2022-11-22T03:19:09.135008Z",
     "iopub.status.idle": "2022-11-22T03:19:09.150015Z",
     "shell.execute_reply": "2022-11-22T03:19:09.149009Z",
     "shell.execute_reply.started": "2022-11-22T03:19:09.135008Z"
    }
   },
   "outputs": [
    {
     "data": {
      "text/plain": [
       "Pipeline(steps=[('smote', SMOTE(random_state=42)),\n",
       "                ('kneighborsclassifier', KNeighborsClassifier())])"
      ]
     },
     "execution_count": 10,
     "metadata": {},
     "output_type": "execute_result"
    }
   ],
   "source": [
    "# Import classifier\n",
    "from sklearn.neighbors import KNeighborsClassifier\n",
    "random_state = 42\n",
    "# Define model with pipeline\n",
    "model = imbl_pipe(SMOTE(sampling_strategy='auto', random_state=random_state),\n",
    "              KNeighborsClassifier())\n",
    "model"
   ]
  },
  {
   "cell_type": "code",
   "execution_count": 11,
   "metadata": {},
   "outputs": [
    {
     "data": {
      "text/plain": [
       "Pipeline(steps=[('smote', SMOTE(random_state=42)),\n",
       "                ('kneighborsclassifier', KNeighborsClassifier())])"
      ]
     },
     "execution_count": 11,
     "metadata": {},
     "output_type": "execute_result"
    }
   ],
   "source": [
    "model.fit(X, y)"
   ]
  },
  {
   "cell_type": "code",
   "execution_count": 12,
   "metadata": {},
   "outputs": [
    {
     "data": {
      "image/png": "[encoded data removed]",
      "text/plain": [
       "<Figure size 640x480 with 1 Axes>"
      ]
     },
     "metadata": {},
     "output_type": "display_data"
    },
    {
     "name": "stdout",
     "output_type": "stream",
     "text": [
      "Feature importance scores:\n",
      "Feature: 15, Score: 0.09042\n",
      "Feature: 14, Score: 0.06656\n",
      "Feature: 17, Score: 0.04860\n",
      "Feature: 12, Score: 0.03882\n",
      "Feature: 13, Score: 0.03816\n"
     ]
    }
   ],
   "source": [
    "import matplotlib.pyplot as plt\n",
    "from sklearn.inspection import permutation_importance\n",
    "import warnings\n",
    "from scipy.stats import mode\n",
    "\n",
    "# Suppress the FutureWarning\n",
    "warnings.simplefilter(action='ignore', category=FutureWarning)\n",
    "# Calculate permutation importance\n",
    "results = permutation_importance(model, X, y, scoring='accuracy')\n",
    "importance = results.importances_mean\n",
    "\n",
    "# Plot the feature importance\n",
    "plt.bar(range(len(importance)), importance)\n",
    "plt.xlabel('Feature')\n",
    "plt.ylabel('Importance Score')\n",
    "plt.title('Permutation Importance')\n",
    "plt.xticks(range(len(importance)))\n",
    "plt.show()\n",
    "\n",
    "# Print feature importance scores\n",
    "print('Feature importance scores:')\n",
    "feature_scores = list(enumerate(importance))\n",
    "feature_scores_sorted = sorted(feature_scores, key=lambda x: x[1], reverse=True)\n",
    "top_features = feature_scores_sorted[:5]  # Select the top 5 features\n",
    "\n",
    "for feature, score in top_features:\n",
    "    print('Feature: %d, Score: %.5f' % (feature, score))"
   ]
  },
  {
   "cell_type": "code",
   "execution_count": 13,
   "metadata": {},
   "outputs": [
    {
     "name": "stdout",
     "output_type": "stream",
     "text": [
      "[15, 14, 17, 12, 13]\n",
      "New data:\n",
      "[[1.         1.         0.25       0.         0.        ]\n",
      " [1.         0.         0.5        0.33403148 0.        ]\n",
      " [0.         1.         0.5        0.63635718 0.66666667]\n",
      " ...\n",
      " [1.         0.         0.5        0.         0.        ]\n",
      " [0.         1.         0.25       0.29922631 0.33333333]\n",
      " [0.         1.         0.5        0.51870777 0.        ]]\n"
     ]
    }
   ],
   "source": [
    "feature = []\n",
    "for i in top_features:\n",
    "    feature.append(i[0])\n",
    "print(feature)\n",
    "for column in data:\n",
    "    new_data = np.array([row[feature] for row in data])\n",
    "print (\"New data:\")\n",
    "print(new_data)\n",
    "X = new_data"
   ]
  },
  {
   "cell_type": "markdown",
   "metadata": {},
   "source": [
    "## Create a Train Test Split\n",
    "We will continue with splitting our data into separete training and test sets.\n",
    "\n",
    "20% of observations will be set aside for the test set\n",
    "\n",
    "the rest, 80%, will be used as the training set"
   ]
  },
  {
   "cell_type": "code",
   "execution_count": 14,
   "metadata": {},
   "outputs": [
    {
     "name": "stdout",
     "output_type": "stream",
     "text": [
      "8500 1500 8500 1500\n"
     ]
    }
   ],
   "source": [
    "# Split X and y into train and test sets\n",
    "X_train, X_test, y_train, y_test = train_test_split(X, y,\n",
    "                                                    test_size=0.15,\n",
    "                                                    random_state=42)\n",
    "\n",
    "# Print number of observations in X_train, X_test, y_train, and y_test\n",
    "print(len(X_train), len(X_test), len(y_train), len(y_test))"
   ]
  },
  {
   "cell_type": "code",
   "execution_count": 15,
   "metadata": {
    "execution": {
     "iopub.execute_input": "2022-11-22T03:19:09.153008Z",
     "iopub.status.busy": "2022-11-22T03:19:09.152008Z",
     "iopub.status.idle": "2022-11-22T03:19:09.166008Z",
     "shell.execute_reply": "2022-11-22T03:19:09.165010Z",
     "shell.execute_reply.started": "2022-11-22T03:19:09.153008Z"
    }
   },
   "outputs": [],
   "source": [
    " # Create the GridSearchCV model\n",
    "# Create the GridSearch estimator along with a parameter object containing the values to adjust\n",
    "from sklearn.model_selection import GridSearchCV\n",
    "kn_param_grid = {\n",
    "    'kneighborsclassifier__weights' : ['uniform', 'distance'],\n",
    "    'kneighborsclassifier__algorithm' : ['auto', 'ball_tree', 'kd_tree', 'brute']\n",
    "}\n",
    "kn_grid = GridSearchCV(model, kn_param_grid, verbose=3, cv= 10, scoring='accuracy')"
   ]
  },
  {
   "cell_type": "code",
   "execution_count": 16,
   "metadata": {
    "execution": {
     "iopub.execute_input": "2022-11-22T03:19:09.185009Z",
     "iopub.status.busy": "2022-11-22T03:19:09.184013Z",
     "iopub.status.idle": "2022-11-22T03:23:26.660105Z",
     "shell.execute_reply": "2022-11-22T03:23:26.659142Z",
     "shell.execute_reply.started": "2022-11-22T03:19:09.185009Z"
    },
    "scrolled": true,
    "tags": []
   },
   "outputs": [
    {
     "name": "stdout",
     "output_type": "stream",
     "text": [
      "Fitting 10 folds for each of 8 candidates, totalling 80 fits\n",
      "[CV 1/10] END kneighborsclassifier__algorithm=auto, kneighborsclassifier__weights=uniform;, score=0.706 total time=   0.1s\n",
      "[CV 2/10] END kneighborsclassifier__algorithm=auto, kneighborsclassifier__weights=uniform;, score=0.704 total time=   0.0s\n",
      "[CV 3/10] END kneighborsclassifier__algorithm=auto, kneighborsclassifier__weights=uniform;, score=0.686 total time=   0.0s\n",
      "[CV 4/10] END kneighborsclassifier__algorithm=auto, kneighborsclassifier__weights=uniform;, score=0.687 total time=   0.0s\n",
      "[CV 5/10] END kneighborsclassifier__algorithm=auto, kneighborsclassifier__weights=uniform;, score=0.724 total time=   0.0s\n",
      "[CV 6/10] END kneighborsclassifier__algorithm=auto, kneighborsclassifier__weights=uniform;, score=0.693 total time=   0.0s\n",
      "[CV 7/10] END kneighborsclassifier__algorithm=auto, kneighborsclassifier__weights=uniform;, score=0.693 total time=   0.0s\n",
      "[CV 8/10] END kneighborsclassifier__algorithm=auto, kneighborsclassifier__weights=uniform;, score=0.701 total time=   0.0s\n",
      "[CV 9/10] END kneighborsclassifier__algorithm=auto, kneighborsclassifier__weights=uniform;, score=0.694 total time=   0.0s\n",
      "[CV 10/10] END kneighborsclassifier__algorithm=auto, kneighborsclassifier__weights=uniform;, score=0.699 total time=   0.0s\n",
      "[CV 1/10] END kneighborsclassifier__algorithm=auto, kneighborsclassifier__weights=distance;, score=0.696 total time=   0.0s\n",
      "[CV 2/10] END kneighborsclassifier__algorithm=auto, kneighborsclassifier__weights=distance;, score=0.678 total time=   0.0s\n",
      "[CV 3/10] END kneighborsclassifier__algorithm=auto, kneighborsclassifier__weights=distance;, score=0.691 total time=   0.0s\n",
      "[CV 4/10] END kneighborsclassifier__algorithm=auto, kneighborsclassifier__weights=distance;, score=0.680 total time=   0.0s\n",
      "[CV 5/10] END kneighborsclassifier__algorithm=auto, kneighborsclassifier__weights=distance;, score=0.705 total time=   0.0s\n",
      "[CV 6/10] END kneighborsclassifier__algorithm=auto, kneighborsclassifier__weights=distance;, score=0.689 total time=   0.0s\n",
      "[CV 7/10] END kneighborsclassifier__algorithm=auto, kneighborsclassifier__weights=distance;, score=0.699 total time=   0.0s\n",
      "[CV 8/10] END kneighborsclassifier__algorithm=auto, kneighborsclassifier__weights=distance;, score=0.694 total time=   0.0s\n",
      "[CV 9/10] END kneighborsclassifier__algorithm=auto, kneighborsclassifier__weights=distance;, score=0.687 total time=   0.0s\n",
      "[CV 10/10] END kneighborsclassifier__algorithm=auto, kneighborsclassifier__weights=distance;, score=0.691 total time=   0.0s\n",
      "[CV 1/10] END kneighborsclassifier__algorithm=ball_tree, kneighborsclassifier__weights=uniform;, score=0.706 total time=   0.0s\n",
      "[CV 2/10] END kneighborsclassifier__algorithm=ball_tree, kneighborsclassifier__weights=uniform;, score=0.702 total time=   0.0s\n",
      "[CV 3/10] END kneighborsclassifier__algorithm=ball_tree, kneighborsclassifier__weights=uniform;, score=0.686 total time=   0.0s\n",
      "[CV 4/10] END kneighborsclassifier__algorithm=ball_tree, kneighborsclassifier__weights=uniform;, score=0.687 total time=   0.0s\n",
      "[CV 5/10] END kneighborsclassifier__algorithm=ball_tree, kneighborsclassifier__weights=uniform;, score=0.725 total time=   0.0s\n",
      "[CV 6/10] END kneighborsclassifier__algorithm=ball_tree, kneighborsclassifier__weights=uniform;, score=0.693 total time=   0.0s\n",
      "[CV 7/10] END kneighborsclassifier__algorithm=ball_tree, kneighborsclassifier__weights=uniform;, score=0.693 total time=   0.0s\n",
      "[CV 8/10] END kneighborsclassifier__algorithm=ball_tree, kneighborsclassifier__weights=uniform;, score=0.701 total time=   0.0s\n",
      "[CV 9/10] END kneighborsclassifier__algorithm=ball_tree, kneighborsclassifier__weights=uniform;, score=0.694 total time=   0.0s\n",
      "[CV 10/10] END kneighborsclassifier__algorithm=ball_tree, kneighborsclassifier__weights=uniform;, score=0.699 total time=   0.0s\n",
      "[CV 1/10] END kneighborsclassifier__algorithm=ball_tree, kneighborsclassifier__weights=distance;, score=0.696 total time=   0.0s\n",
      "[CV 2/10] END kneighborsclassifier__algorithm=ball_tree, kneighborsclassifier__weights=distance;, score=0.678 total time=   0.0s\n",
      "[CV 3/10] END kneighborsclassifier__algorithm=ball_tree, kneighborsclassifier__weights=distance;, score=0.691 total time=   0.0s\n",
      "[CV 4/10] END kneighborsclassifier__algorithm=ball_tree, kneighborsclassifier__weights=distance;, score=0.680 total time=   0.0s\n",
      "[CV 5/10] END kneighborsclassifier__algorithm=ball_tree, kneighborsclassifier__weights=distance;, score=0.706 total time=   0.0s\n",
      "[CV 6/10] END kneighborsclassifier__algorithm=ball_tree, kneighborsclassifier__weights=distance;, score=0.689 total time=   0.0s\n",
      "[CV 7/10] END kneighborsclassifier__algorithm=ball_tree, kneighborsclassifier__weights=distance;, score=0.699 total time=   0.0s\n",
      "[CV 8/10] END kneighborsclassifier__algorithm=ball_tree, kneighborsclassifier__weights=distance;, score=0.694 total time=   0.0s\n",
      "[CV 9/10] END kneighborsclassifier__algorithm=ball_tree, kneighborsclassifier__weights=distance;, score=0.687 total time=   0.0s\n",
      "[CV 10/10] END kneighborsclassifier__algorithm=ball_tree, kneighborsclassifier__weights=distance;, score=0.691 total time=   0.0s\n",
      "[CV 1/10] END kneighborsclassifier__algorithm=kd_tree, kneighborsclassifier__weights=uniform;, score=0.706 total time=   0.0s\n",
      "[CV 2/10] END kneighborsclassifier__algorithm=kd_tree, kneighborsclassifier__weights=uniform;, score=0.704 total time=   0.0s\n",
      "[CV 3/10] END kneighborsclassifier__algorithm=kd_tree, kneighborsclassifier__weights=uniform;, score=0.686 total time=   0.0s\n",
      "[CV 4/10] END kneighborsclassifier__algorithm=kd_tree, kneighborsclassifier__weights=uniform;, score=0.687 total time=   0.0s\n",
      "[CV 5/10] END kneighborsclassifier__algorithm=kd_tree, kneighborsclassifier__weights=uniform;, score=0.724 total time=   0.0s\n",
      "[CV 6/10] END kneighborsclassifier__algorithm=kd_tree, kneighborsclassifier__weights=uniform;, score=0.693 total time=   0.0s\n",
      "[CV 7/10] END kneighborsclassifier__algorithm=kd_tree, kneighborsclassifier__weights=uniform;, score=0.693 total time=   0.0s\n",
      "[CV 8/10] END kneighborsclassifier__algorithm=kd_tree, kneighborsclassifier__weights=uniform;, score=0.701 total time=   0.0s\n",
      "[CV 9/10] END kneighborsclassifier__algorithm=kd_tree, kneighborsclassifier__weights=uniform;, score=0.694 total time=   0.0s\n",
      "[CV 10/10] END kneighborsclassifier__algorithm=kd_tree, kneighborsclassifier__weights=uniform;, score=0.699 total time=   0.0s\n",
      "[CV 1/10] END kneighborsclassifier__algorithm=kd_tree, kneighborsclassifier__weights=distance;, score=0.696 total time=   0.0s\n",
      "[CV 2/10] END kneighborsclassifier__algorithm=kd_tree, kneighborsclassifier__weights=distance;, score=0.678 total time=   0.0s\n",
      "[CV 3/10] END kneighborsclassifier__algorithm=kd_tree, kneighborsclassifier__weights=distance;, score=0.691 total time=   0.0s\n",
      "[CV 4/10] END kneighborsclassifier__algorithm=kd_tree, kneighborsclassifier__weights=distance;, score=0.680 total time=   0.0s\n",
      "[CV 5/10] END kneighborsclassifier__algorithm=kd_tree, kneighborsclassifier__weights=distance;, score=0.705 total time=   0.0s\n",
      "[CV 6/10] END kneighborsclassifier__algorithm=kd_tree, kneighborsclassifier__weights=distance;, score=0.689 total time=   0.0s\n",
      "[CV 7/10] END kneighborsclassifier__algorithm=kd_tree, kneighborsclassifier__weights=distance;, score=0.699 total time=   0.0s\n",
      "[CV 8/10] END kneighborsclassifier__algorithm=kd_tree, kneighborsclassifier__weights=distance;, score=0.694 total time=   0.0s\n",
      "[CV 9/10] END kneighborsclassifier__algorithm=kd_tree, kneighborsclassifier__weights=distance;, score=0.687 total time=   0.0s\n",
      "[CV 10/10] END kneighborsclassifier__algorithm=kd_tree, kneighborsclassifier__weights=distance;, score=0.691 total time=   0.0s\n",
      "[CV 1/10] END kneighborsclassifier__algorithm=brute, kneighborsclassifier__weights=uniform;, score=0.686 total time=   0.4s\n",
      "[CV 2/10] END kneighborsclassifier__algorithm=brute, kneighborsclassifier__weights=uniform;, score=0.692 total time=   0.5s\n",
      "[CV 3/10] END kneighborsclassifier__algorithm=brute, kneighborsclassifier__weights=uniform;, score=0.686 total time=   0.4s\n",
      "[CV 4/10] END kneighborsclassifier__algorithm=brute, kneighborsclassifier__weights=uniform;, score=0.674 total time=   0.3s\n",
      "[CV 5/10] END kneighborsclassifier__algorithm=brute, kneighborsclassifier__weights=uniform;, score=0.691 total time=   0.3s\n"
     ]
    },
    {
     "name": "stdout",
     "output_type": "stream",
     "text": [
      "[CV 6/10] END kneighborsclassifier__algorithm=brute, kneighborsclassifier__weights=uniform;, score=0.688 total time=   0.3s\n",
      "[CV 7/10] END kneighborsclassifier__algorithm=brute, kneighborsclassifier__weights=uniform;, score=0.686 total time=   0.3s\n",
      "[CV 8/10] END kneighborsclassifier__algorithm=brute, kneighborsclassifier__weights=uniform;, score=0.682 total time=   0.4s\n",
      "[CV 9/10] END kneighborsclassifier__algorithm=brute, kneighborsclassifier__weights=uniform;, score=0.666 total time=   0.4s\n",
      "[CV 10/10] END kneighborsclassifier__algorithm=brute, kneighborsclassifier__weights=uniform;, score=0.671 total time=   0.3s\n",
      "[CV 1/10] END kneighborsclassifier__algorithm=brute, kneighborsclassifier__weights=distance;, score=0.676 total time=   0.2s\n",
      "[CV 2/10] END kneighborsclassifier__algorithm=brute, kneighborsclassifier__weights=distance;, score=0.665 total time=   0.2s\n",
      "[CV 3/10] END kneighborsclassifier__algorithm=brute, kneighborsclassifier__weights=distance;, score=0.691 total time=   0.2s\n",
      "[CV 4/10] END kneighborsclassifier__algorithm=brute, kneighborsclassifier__weights=distance;, score=0.667 total time=   0.2s\n",
      "[CV 5/10] END kneighborsclassifier__algorithm=brute, kneighborsclassifier__weights=distance;, score=0.672 total time=   0.2s\n",
      "[CV 6/10] END kneighborsclassifier__algorithm=brute, kneighborsclassifier__weights=distance;, score=0.686 total time=   0.2s\n",
      "[CV 7/10] END kneighborsclassifier__algorithm=brute, kneighborsclassifier__weights=distance;, score=0.692 total time=   0.2s\n",
      "[CV 8/10] END kneighborsclassifier__algorithm=brute, kneighborsclassifier__weights=distance;, score=0.675 total time=   0.2s\n",
      "[CV 9/10] END kneighborsclassifier__algorithm=brute, kneighborsclassifier__weights=distance;, score=0.659 total time=   0.2s\n",
      "[CV 10/10] END kneighborsclassifier__algorithm=brute, kneighborsclassifier__weights=distance;, score=0.662 total time=   0.2s\n"
     ]
    },
    {
     "data": {
      "text/plain": [
       "GridSearchCV(cv=10,\n",
       "             estimator=Pipeline(steps=[('smote', SMOTE(random_state=42)),\n",
       "                                       ('kneighborsclassifier',\n",
       "                                        KNeighborsClassifier())]),\n",
       "             param_grid={'kneighborsclassifier__algorithm': ['auto',\n",
       "                                                             'ball_tree',\n",
       "                                                             'kd_tree',\n",
       "                                                             'brute'],\n",
       "                         'kneighborsclassifier__weights': ['uniform',\n",
       "                                                           'distance']},\n",
       "             scoring='accuracy', verbose=3)"
      ]
     },
     "execution_count": 16,
     "metadata": {},
     "output_type": "execute_result"
    }
   ],
   "source": [
    "kn_grid.fit(X_train, y_train)"
   ]
  },
  {
   "cell_type": "code",
   "execution_count": 17,
   "metadata": {
    "execution": {
     "iopub.execute_input": "2022-11-22T03:23:26.661123Z",
     "iopub.status.busy": "2022-11-22T03:23:26.661123Z",
     "iopub.status.idle": "2022-11-22T03:23:26.675994Z",
     "shell.execute_reply": "2022-11-22T03:23:26.674994Z",
     "shell.execute_reply.started": "2022-11-22T03:23:26.661123Z"
    }
   },
   "outputs": [
    {
     "name": "stdout",
     "output_type": "stream",
     "text": [
      "{'kneighborsclassifier__algorithm': 'auto', 'kneighborsclassifier__weights': 'uniform'}\n"
     ]
    }
   ],
   "source": [
    "print(kn_grid.best_params_)"
   ]
  },
  {
   "cell_type": "code",
   "execution_count": 18,
   "metadata": {
    "execution": {
     "iopub.execute_input": "2022-11-22T03:23:26.678046Z",
     "iopub.status.busy": "2022-11-22T03:23:26.676994Z",
     "iopub.status.idle": "2022-11-22T03:23:26.691558Z",
     "shell.execute_reply": "2022-11-22T03:23:26.690596Z",
     "shell.execute_reply.started": "2022-11-22T03:23:26.678046Z"
    }
   },
   "outputs": [
    {
     "name": "stdout",
     "output_type": "stream",
     "text": [
      "0.6985882352941177\n"
     ]
    }
   ],
   "source": [
    "print(kn_grid.best_score_)"
   ]
  },
  {
   "cell_type": "code",
   "execution_count": 19,
   "metadata": {
    "execution": {
     "iopub.execute_input": "2022-11-22T03:23:26.692596Z",
     "iopub.status.busy": "2022-11-22T03:23:26.692596Z",
     "iopub.status.idle": "2022-11-22T03:23:27.339253Z",
     "shell.execute_reply": "2022-11-22T03:23:27.338277Z",
     "shell.execute_reply.started": "2022-11-22T03:23:26.692596Z"
    }
   },
   "outputs": [
    {
     "name": "stdout",
     "output_type": "stream",
     "text": [
      "Training Data Score: 0.7965882352941176\n",
      "Testing Data Score: 0.7146666666666667\n"
     ]
    }
   ],
   "source": [
    "print(f\"Training Data Score: {kn_grid.score(X_train, y_train)}\")\n",
    "print(f\"Testing Data Score: {kn_grid.score(X_test, y_test)}\")"
   ]
  },
  {
   "cell_type": "code",
   "execution_count": 20,
   "metadata": {},
   "outputs": [
    {
     "data": {
      "image/png": "[encoded data removed]",
      "text/plain": [
       "<Figure size 640x480 with 1 Axes>"
      ]
     },
     "metadata": {},
     "output_type": "display_data"
    }
   ],
   "source": [
    "from imblearn.pipeline import Pipeline\n",
    "from imblearn.over_sampling import SMOTE\n",
    "from sklearn.neighbors import KNeighborsClassifier\n",
    "\n",
    "k_neighbors = np.arange(1, 100)\n",
    "train_accuracy = np.empty(len(k_neighbors))\n",
    "test_accuracy = np.empty(len(k_neighbors))\n",
    "\n",
    "for i, k in enumerate(k_neighbors):\n",
    "    model = Pipeline([\n",
    "        ('sampling', SMOTE(sampling_strategy='auto', random_state=random_state)),\n",
    "        ('classification', KNeighborsClassifier(\n",
    "            algorithm='brute',\n",
    "            n_neighbors=k,\n",
    "            weights='uniform'\n",
    "        ))\n",
    "    ])\n",
    "    \n",
    "    model.fit(X_train, y_train)\n",
    "    train_accuracy[i] = model.score(X_train, y_train)\n",
    "    test_accuracy[i] = model.score(X_test, y_test)\n",
    "\n",
    "# Generate plot\n",
    "plt.title('k-NN Varying number of neighbors')\n",
    "plt.plot(k_neighbors, test_accuracy, label='Testing Accuracy')\n",
    "plt.plot(k_neighbors, train_accuracy, label='Training accuracy')\n",
    "plt.legend()\n",
    "plt.xlabel('Number of neighbors')\n",
    "plt.ylabel('Accuracy')\n",
    "plt.show()\n"
   ]
  },
  {
   "cell_type": "markdown",
   "metadata": {},
   "source": [
    "Show, the best k is: k = 10"
   ]
  },
  {
   "cell_type": "code",
   "execution_count": 21,
   "metadata": {},
   "outputs": [
    {
     "name": "stdout",
     "output_type": "stream",
     "text": [
      "train accuracy:  0.7787058823529411\n",
      "test accuracy:  0.7253333333333334\n"
     ]
    }
   ],
   "source": [
    "model = Pipeline([\n",
    "        ('sampling', SMOTE(sampling_strategy='auto', random_state=random_state)),\n",
    "        ('classification', KNeighborsClassifier(\n",
    "            algorithm='brute',\n",
    "            n_neighbors=10,\n",
    "            weights='uniform'\n",
    "        ))\n",
    "    ])\n",
    "    \n",
    "model.fit(X_train, y_train)\n",
    "print(\"train accuracy: \", model.score(X_train, y_train))\n",
    "print(\"test accuracy: \", model.score(X_test, y_test))"
   ]
  },
  {
   "cell_type": "code",
   "execution_count": 22,
   "metadata": {},
   "outputs": [],
   "source": [
    "predictions =model.predict(X_test)"
   ]
  },
  {
   "cell_type": "code",
   "execution_count": 23,
   "metadata": {
    "execution": {
     "iopub.execute_input": "2022-11-22T03:23:27.594098Z",
     "iopub.status.busy": "2022-11-22T03:23:27.594098Z",
     "iopub.status.idle": "2022-11-22T03:23:27.623066Z",
     "shell.execute_reply": "2022-11-22T03:23:27.622196Z",
     "shell.execute_reply.started": "2022-11-22T03:23:27.594098Z"
    }
   },
   "outputs": [
    {
     "data": {
      "text/html": [
       "<div>\n",
       "<style scoped>\n",
       "    .dataframe tbody tr th:only-of-type {\n",
       "        vertical-align: middle;\n",
       "    }\n",
       "\n",
       "    .dataframe tbody tr th {\n",
       "        vertical-align: top;\n",
       "    }\n",
       "\n",
       "    .dataframe thead th {\n",
       "        text-align: right;\n",
       "    }\n",
       "</style>\n",
       "<table border=\"1\" class=\"dataframe\">\n",
       "  <thead>\n",
       "    <tr style=\"text-align: right;\">\n",
       "      <th></th>\n",
       "      <th>Prediction</th>\n",
       "      <th>Actual</th>\n",
       "    </tr>\n",
       "  </thead>\n",
       "  <tbody>\n",
       "    <tr>\n",
       "      <th>0</th>\n",
       "      <td>0.0</td>\n",
       "      <td>0.0</td>\n",
       "    </tr>\n",
       "    <tr>\n",
       "      <th>1</th>\n",
       "      <td>0.0</td>\n",
       "      <td>0.0</td>\n",
       "    </tr>\n",
       "    <tr>\n",
       "      <th>2</th>\n",
       "      <td>0.0</td>\n",
       "      <td>0.0</td>\n",
       "    </tr>\n",
       "    <tr>\n",
       "      <th>3</th>\n",
       "      <td>0.0</td>\n",
       "      <td>0.0</td>\n",
       "    </tr>\n",
       "    <tr>\n",
       "      <th>4</th>\n",
       "      <td>1.0</td>\n",
       "      <td>0.0</td>\n",
       "    </tr>\n",
       "    <tr>\n",
       "      <th>...</th>\n",
       "      <td>...</td>\n",
       "      <td>...</td>\n",
       "    </tr>\n",
       "    <tr>\n",
       "      <th>1495</th>\n",
       "      <td>0.0</td>\n",
       "      <td>0.0</td>\n",
       "    </tr>\n",
       "    <tr>\n",
       "      <th>1496</th>\n",
       "      <td>0.0</td>\n",
       "      <td>0.0</td>\n",
       "    </tr>\n",
       "    <tr>\n",
       "      <th>1497</th>\n",
       "      <td>0.0</td>\n",
       "      <td>0.0</td>\n",
       "    </tr>\n",
       "    <tr>\n",
       "      <th>1498</th>\n",
       "      <td>1.0</td>\n",
       "      <td>1.0</td>\n",
       "    </tr>\n",
       "    <tr>\n",
       "      <th>1499</th>\n",
       "      <td>1.0</td>\n",
       "      <td>0.0</td>\n",
       "    </tr>\n",
       "  </tbody>\n",
       "</table>\n",
       "<p>1500 rows × 2 columns</p>\n",
       "</div>"
      ],
      "text/plain": [
       "      Prediction  Actual\n",
       "0            0.0     0.0\n",
       "1            0.0     0.0\n",
       "2            0.0     0.0\n",
       "3            0.0     0.0\n",
       "4            1.0     0.0\n",
       "...          ...     ...\n",
       "1495         0.0     0.0\n",
       "1496         0.0     0.0\n",
       "1497         0.0     0.0\n",
       "1498         1.0     1.0\n",
       "1499         1.0     0.0\n",
       "\n",
       "[1500 rows x 2 columns]"
      ]
     },
     "execution_count": 23,
     "metadata": {},
     "output_type": "execute_result"
    }
   ],
   "source": [
    "pd.DataFrame({\"Prediction\": predictions, \"Actual\": y_test}).reset_index(drop=True)"
   ]
  },
  {
   "cell_type": "code",
   "execution_count": 24,
   "metadata": {},
   "outputs": [
    {
     "data": {
      "image/png": "[encoded data removed]",
      "text/plain": [
       "<Figure size 640x480 with 2 Axes>"
      ]
     },
     "metadata": {},
     "output_type": "display_data"
    }
   ],
   "source": [
    "confusion_matrix = confusion_matrix(y_test, predictions)\n",
    "class_names = [0, 1]\n",
    "fig, ax = plt.subplots()\n",
    "tick_marks = np.arange(len(class_names))\n",
    "plt.xticks(tick_marks, class_names)\n",
    "plt.yticks(tick_marks, class_names)\n",
    "sns.heatmap(pd.DataFrame(confusion_matrix), annot=True, cmap='Greens', fmt='g')\n",
    "plt.tight_layout()\n",
    "plt.title(\"Confusion matrix for K-Neighbors\")\n",
    "plt.show()"
   ]
  },
  {
   "cell_type": "code",
   "execution_count": 25,
   "metadata": {
    "execution": {
     "iopub.execute_input": "2022-11-22T03:23:27.657064Z",
     "iopub.status.busy": "2022-11-22T03:23:27.656061Z",
     "iopub.status.idle": "2022-11-22T03:23:27.671071Z",
     "shell.execute_reply": "2022-11-22T03:23:27.670359Z",
     "shell.execute_reply.started": "2022-11-22T03:23:27.657064Z"
    }
   },
   "outputs": [
    {
     "name": "stdout",
     "output_type": "stream",
     "text": [
      "              precision    recall  f1-score   support\n",
      "\n",
      "         0.0       0.88      0.76      0.82      1207\n",
      "         1.0       0.37      0.59      0.46       293\n",
      "\n",
      "    accuracy                           0.73      1500\n",
      "   macro avg       0.63      0.67      0.64      1500\n",
      "weighted avg       0.78      0.73      0.75      1500\n",
      "\n"
     ]
    }
   ],
   "source": [
    "print(classification_report(y_test, predictions))"
   ]
  }
 ],
 "metadata": {
  "kernelspec": {
   "display_name": "Python 3 (ipykernel)",
   "language": "python",
   "name": "python3"
  },
  "language_info": {
   "codemirror_mode": {
    "name": "ipython",
    "version": 3
   },
   "file_extension": ".py",
   "mimetype": "text/x-python",
   "name": "python",
   "nbconvert_exporter": "python",
   "pygments_lexer": "ipython3",
   "version": "3.9.13"
  }
 },
 "nbformat": 4,
 "nbformat_minor": 4
}
